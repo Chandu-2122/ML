{
 "cells": [
  {
   "cell_type": "markdown",
   "id": "f604ded1",
   "metadata": {},
   "source": [
    "# Importing the necessary libraries"
   ]
  },
  {
   "cell_type": "code",
   "execution_count": 24,
   "id": "61a10840",
   "metadata": {},
   "outputs": [],
   "source": [
    "import numpy as np\n",
    "import pandas as pd\n",
    "import matplotlib.pyplot as plt\n",
    "import seaborn as sns\n",
    "\n",
    "from sklearn.preprocessing import LabelEncoder\n",
    "from sklearn.preprocessing import StandardScaler\n",
    "from sklearn.metrics import accuracy_score\n",
    "from sklearn.metrics import confusion_matrix \n",
    "from sklearn.neighbors import KNeighborsClassifier\n",
    "from sklearn.model_selection import train_test_split\n",
    "d"
   ]
  },
  {
   "cell_type": "markdown",
   "id": "8caa4854",
   "metadata": {},
   "source": [
    "# Importing the dataset"
   ]
  },
  {
   "cell_type": "code",
   "execution_count": 4,
   "id": "6c27dcb9",
   "metadata": {},
   "outputs": [],
   "source": [
    "dataset = pd.read_csv(\"C:\\\\Users\\\\Chandu\\\\Desktop\\\\Datasets\\\\Social_Network_Ads.csv\")"
   ]
  },
  {
   "cell_type": "code",
   "execution_count": 5,
   "id": "adeabd48",
   "metadata": {},
   "outputs": [
    {
     "data": {
      "text/html": [
       "<div>\n",
       "<style scoped>\n",
       "    .dataframe tbody tr th:only-of-type {\n",
       "        vertical-align: middle;\n",
       "    }\n",
       "\n",
       "    .dataframe tbody tr th {\n",
       "        vertical-align: top;\n",
       "    }\n",
       "\n",
       "    .dataframe thead th {\n",
       "        text-align: right;\n",
       "    }\n",
       "</style>\n",
       "<table border=\"1\" class=\"dataframe\">\n",
       "  <thead>\n",
       "    <tr style=\"text-align: right;\">\n",
       "      <th></th>\n",
       "      <th>User ID</th>\n",
       "      <th>Gender</th>\n",
       "      <th>Age</th>\n",
       "      <th>EstimatedSalary</th>\n",
       "      <th>Purchased</th>\n",
       "    </tr>\n",
       "  </thead>\n",
       "  <tbody>\n",
       "    <tr>\n",
       "      <th>0</th>\n",
       "      <td>11021175</td>\n",
       "      <td>Male</td>\n",
       "      <td>42</td>\n",
       "      <td>121315</td>\n",
       "      <td>0</td>\n",
       "    </tr>\n",
       "    <tr>\n",
       "      <th>1</th>\n",
       "      <td>17782313</td>\n",
       "      <td>Male</td>\n",
       "      <td>53</td>\n",
       "      <td>67214</td>\n",
       "      <td>0</td>\n",
       "    </tr>\n",
       "    <tr>\n",
       "      <th>2</th>\n",
       "      <td>14603818</td>\n",
       "      <td>Female</td>\n",
       "      <td>59</td>\n",
       "      <td>111005</td>\n",
       "      <td>0</td>\n",
       "    </tr>\n",
       "    <tr>\n",
       "      <th>3</th>\n",
       "      <td>18188198</td>\n",
       "      <td>Female</td>\n",
       "      <td>39</td>\n",
       "      <td>53414</td>\n",
       "      <td>0</td>\n",
       "    </tr>\n",
       "    <tr>\n",
       "      <th>4</th>\n",
       "      <td>19357305</td>\n",
       "      <td>Male</td>\n",
       "      <td>39</td>\n",
       "      <td>114285</td>\n",
       "      <td>0</td>\n",
       "    </tr>\n",
       "  </tbody>\n",
       "</table>\n",
       "</div>"
      ],
      "text/plain": [
       "    User ID  Gender  Age  EstimatedSalary  Purchased\n",
       "0  11021175    Male   42           121315          0\n",
       "1  17782313    Male   53            67214          0\n",
       "2  14603818  Female   59           111005          0\n",
       "3  18188198  Female   39            53414          0\n",
       "4  19357305    Male   39           114285          0"
      ]
     },
     "execution_count": 5,
     "metadata": {},
     "output_type": "execute_result"
    }
   ],
   "source": [
    "#observe the dataset\n",
    "\n",
    "dataset.head()"
   ]
  },
  {
   "cell_type": "markdown",
   "id": "9c14423a",
   "metadata": {},
   "source": [
    "# Preprocessing the Dataset"
   ]
  },
  {
   "cell_type": "code",
   "execution_count": 6,
   "id": "63c5faff",
   "metadata": {},
   "outputs": [
    {
     "name": "stdout",
     "output_type": "stream",
     "text": [
      "<class 'pandas.core.frame.DataFrame'>\n",
      "RangeIndex: 400 entries, 0 to 399\n",
      "Data columns (total 5 columns):\n",
      " #   Column           Non-Null Count  Dtype \n",
      "---  ------           --------------  ----- \n",
      " 0   User ID          400 non-null    int64 \n",
      " 1   Gender           400 non-null    object\n",
      " 2   Age              400 non-null    int64 \n",
      " 3   EstimatedSalary  400 non-null    int64 \n",
      " 4   Purchased        400 non-null    int64 \n",
      "dtypes: int64(4), object(1)\n",
      "memory usage: 15.8+ KB\n"
     ]
    }
   ],
   "source": [
    "#Getting the basic information of the dataset\n",
    "\n",
    "dataset.info()"
   ]
  },
  {
   "cell_type": "markdown",
   "id": "3bb895dc",
   "metadata": {},
   "source": [
    "Only 'Gender' is of object type"
   ]
  },
  {
   "cell_type": "code",
   "execution_count": 7,
   "id": "63036a4d",
   "metadata": {},
   "outputs": [
    {
     "data": {
      "text/plain": [
       "User ID            0\n",
       "Gender             0\n",
       "Age                0\n",
       "EstimatedSalary    0\n",
       "Purchased          0\n",
       "dtype: int64"
      ]
     },
     "execution_count": 7,
     "metadata": {},
     "output_type": "execute_result"
    }
   ],
   "source": [
    "#Let's seperately check for only null values\n",
    "\n",
    "dataset.isnull().sum()"
   ]
  },
  {
   "cell_type": "code",
   "execution_count": 8,
   "id": "515ce0b1",
   "metadata": {},
   "outputs": [
    {
     "data": {
      "text/plain": [
       "array(['Male', 'Female'], dtype=object)"
      ]
     },
     "execution_count": 8,
     "metadata": {},
     "output_type": "execute_result"
    }
   ],
   "source": [
    "#Let's see the unique values of the 'Gender' column\n",
    "\n",
    "dataset['Gender'].unique()"
   ]
  },
  {
   "cell_type": "code",
   "execution_count": 9,
   "id": "ef2b51f8",
   "metadata": {},
   "outputs": [
    {
     "data": {
      "text/html": [
       "<div>\n",
       "<style scoped>\n",
       "    .dataframe tbody tr th:only-of-type {\n",
       "        vertical-align: middle;\n",
       "    }\n",
       "\n",
       "    .dataframe tbody tr th {\n",
       "        vertical-align: top;\n",
       "    }\n",
       "\n",
       "    .dataframe thead th {\n",
       "        text-align: right;\n",
       "    }\n",
       "</style>\n",
       "<table border=\"1\" class=\"dataframe\">\n",
       "  <thead>\n",
       "    <tr style=\"text-align: right;\">\n",
       "      <th></th>\n",
       "      <th>User ID</th>\n",
       "      <th>Gender</th>\n",
       "      <th>Age</th>\n",
       "      <th>EstimatedSalary</th>\n",
       "      <th>Purchased</th>\n",
       "    </tr>\n",
       "  </thead>\n",
       "  <tbody>\n",
       "    <tr>\n",
       "      <th>0</th>\n",
       "      <td>11021175</td>\n",
       "      <td>1</td>\n",
       "      <td>42</td>\n",
       "      <td>121315</td>\n",
       "      <td>0</td>\n",
       "    </tr>\n",
       "    <tr>\n",
       "      <th>1</th>\n",
       "      <td>17782313</td>\n",
       "      <td>1</td>\n",
       "      <td>53</td>\n",
       "      <td>67214</td>\n",
       "      <td>0</td>\n",
       "    </tr>\n",
       "    <tr>\n",
       "      <th>2</th>\n",
       "      <td>14603818</td>\n",
       "      <td>0</td>\n",
       "      <td>59</td>\n",
       "      <td>111005</td>\n",
       "      <td>0</td>\n",
       "    </tr>\n",
       "    <tr>\n",
       "      <th>3</th>\n",
       "      <td>18188198</td>\n",
       "      <td>0</td>\n",
       "      <td>39</td>\n",
       "      <td>53414</td>\n",
       "      <td>0</td>\n",
       "    </tr>\n",
       "    <tr>\n",
       "      <th>4</th>\n",
       "      <td>19357305</td>\n",
       "      <td>1</td>\n",
       "      <td>39</td>\n",
       "      <td>114285</td>\n",
       "      <td>0</td>\n",
       "    </tr>\n",
       "  </tbody>\n",
       "</table>\n",
       "</div>"
      ],
      "text/plain": [
       "    User ID  Gender  Age  EstimatedSalary  Purchased\n",
       "0  11021175       1   42           121315          0\n",
       "1  17782313       1   53            67214          0\n",
       "2  14603818       0   59           111005          0\n",
       "3  18188198       0   39            53414          0\n",
       "4  19357305       1   39           114285          0"
      ]
     },
     "execution_count": 9,
     "metadata": {},
     "output_type": "execute_result"
    }
   ],
   "source": [
    "#Let's encode the 'Gender' column values\n",
    "\n",
    "Label = LabelEncoder()\n",
    "dataset['Gender']= Label.fit_transform(dataset['Gender'])\n",
    "dataset.head()"
   ]
  },
  {
   "cell_type": "code",
   "execution_count": 10,
   "id": "ef0859dc",
   "metadata": {},
   "outputs": [
    {
     "data": {
      "text/plain": [
       "array([1, 0])"
      ]
     },
     "execution_count": 10,
     "metadata": {},
     "output_type": "execute_result"
    }
   ],
   "source": [
    "#Let's see the encoded values of the 'Gender' column\n",
    "\n",
    "dataset['Gender'].unique()"
   ]
  },
  {
   "cell_type": "markdown",
   "id": "adb709a3",
   "metadata": {},
   "source": [
    "# Visualizing the Data"
   ]
  },
  {
   "cell_type": "code",
   "execution_count": 11,
   "id": "39018c90",
   "metadata": {},
   "outputs": [
    {
     "data": {
      "text/plain": [
       "array([[<AxesSubplot:title={'center':'User ID'}>,\n",
       "        <AxesSubplot:title={'center':'Gender'}>],\n",
       "       [<AxesSubplot:title={'center':'Age'}>,\n",
       "        <AxesSubplot:title={'center':'EstimatedSalary'}>],\n",
       "       [<AxesSubplot:title={'center':'Purchased'}>, <AxesSubplot:>]],\n",
       "      dtype=object)"
      ]
     },
     "execution_count": 11,
     "metadata": {},
     "output_type": "execute_result"
    },
    {
     "data": {
      "image/png": "[encoded data removed]",
      "text/plain": [
       "<Figure size 720x720 with 6 Axes>"
      ]
     },
     "metadata": {
      "needs_background": "light"
     },
     "output_type": "display_data"
    }
   ],
   "source": [
    "#Lets draw histogram graphs \n",
    "\n",
    "dataset.hist(figsize=(10,10),bins=10)"
   ]
  },
  {
   "cell_type": "code",
   "execution_count": 12,
   "id": "429d59bb",
   "metadata": {},
   "outputs": [
    {
     "data": {
      "text/plain": [
       "<AxesSubplot:>"
      ]
     },
     "execution_count": 12,
     "metadata": {},
     "output_type": "execute_result"
    },
    {
     "data": {
      "image/png": "[encoded data removed]",
      "text/plain": [
       "<Figure size 432x288 with 2 Axes>"
      ]
     },
     "metadata": {
      "needs_background": "light"
     },
     "output_type": "display_data"
    }
   ],
   "source": [
    "#Getting the heatmap\n",
    "sns.heatmap(dataset.corr())"
   ]
  },
  {
   "cell_type": "code",
   "execution_count": 13,
   "id": "31527b55",
   "metadata": {},
   "outputs": [
    {
     "data": {
      "text/plain": [
       "<matplotlib.collections.PathCollection at 0x2270fdbfd00>"
      ]
     },
     "execution_count": 13,
     "metadata": {},
     "output_type": "execute_result"
    },
    {
     "data": {
      "image/png": "[encoded data removed]",
      "text/plain": [
       "<Figure size 432x288 with 1 Axes>"
      ]
     },
     "metadata": {
      "needs_background": "light"
     },
     "output_type": "display_data"
    }
   ],
   "source": [
    "plt.scatter(dataset['Age'],dataset['EstimatedSalary'])"
   ]
  },
  {
   "cell_type": "markdown",
   "id": "7774dc99",
   "metadata": {},
   "source": [
    "# Dividing into input and output"
   ]
  },
  {
   "cell_type": "markdown",
   "id": "c2d6c4cf",
   "metadata": {},
   "source": [
    "Let's take all the values except the first two and last column as our input values(independent variables) and the last column as our output(dependent variable)."
   ]
  },
  {
   "cell_type": "code",
   "execution_count": 14,
   "id": "0d91e7f6",
   "metadata": {},
   "outputs": [
    {
     "name": "stdout",
     "output_type": "stream",
     "text": [
      "[[    42 121315]\n",
      " [    53  67214]\n",
      " [    59 111005]\n",
      " [    39  53414]\n",
      " [    39 114285]\n",
      " [    39 107458]\n",
      " [    20  85582]\n",
      " [    59 148335]\n",
      " [    48  80579]\n",
      " [    42 114204]\n",
      " [    32  87786]\n",
      " [    49 113544]\n",
      " [    55  88300]\n",
      " [    54 147066]\n",
      " [    57 139622]\n",
      " [    41 134716]\n",
      " [    51 116333]\n",
      " [    55  72567]\n",
      " [    44 123254]\n",
      " [    47 113548]\n",
      " [    52  79343]\n",
      " [    20 106149]\n",
      " [    40  59674]\n",
      " [    52  76333]\n",
      " [    28 118742]\n",
      " [    22 105897]\n",
      " [    25 114815]\n",
      " [    38  85428]\n",
      " [    57 114005]\n",
      " [    57 133402]\n",
      " [    43 106726]\n",
      " [    35  84550]\n",
      " [    34  96296]\n",
      " [    32  68964]\n",
      " [    55  90946]\n",
      " [    48  51787]\n",
      " [    22  53940]\n",
      " [    42 138928]\n",
      " [    59 116474]\n",
      " [    23  97284]\n",
      " [    40 132951]\n",
      " [    24 119308]\n",
      " [    50 120675]\n",
      " [    41 113547]\n",
      " [    52 102686]\n",
      " [    34 140262]\n",
      " [    20  54075]\n",
      " [    25  63715]\n",
      " [    46  56058]\n",
      " [    58  65052]\n",
      " [    38  72107]\n",
      " [    21 108656]\n",
      " [    42 120639]\n",
      " [    31  68033]\n",
      " [    26  80283]\n",
      " [    47  60952]\n",
      " [    31 123137]\n",
      " [    36  98529]\n",
      " [    25 121301]\n",
      " [    28  61144]\n",
      " [    41 107405]\n",
      " [    32  87032]\n",
      " [    53 118544]\n",
      " [    38  63743]\n",
      " [    43  53404]\n",
      " [    34  88672]\n",
      " [    29  96164]\n",
      " [    47 123288]\n",
      " [    31 122623]\n",
      " [    31  78696]\n",
      " [    51 142525]\n",
      " [    59  87656]\n",
      " [    29 142587]\n",
      " [    25 136561]\n",
      " [    59 146860]\n",
      " [    60 142362]\n",
      " [    35  69596]\n",
      " [    26  68131]\n",
      " [    36 110448]\n",
      " [    23  83386]\n",
      " [    58 108578]\n",
      " [    30 141388]\n",
      " [    43 149365]\n",
      " [    56  58313]\n",
      " [    51 102619]\n",
      " [    28  55147]\n",
      " [    41  50075]\n",
      " [    34 107704]\n",
      " [    43 114836]\n",
      " [    47 121827]\n",
      " [    34  81442]\n",
      " [    34 107339]\n",
      " [    26 112221]\n",
      " [    45  95625]\n",
      " [    57 122153]\n",
      " [    51  95670]\n",
      " [    34 143045]\n",
      " [    59 137848]\n",
      " [    36  52183]\n",
      " [    36  79634]\n",
      " [    23 113567]\n",
      " [    54 141579]\n",
      " [    37  65595]\n",
      " [    36 112290]\n",
      " [    34  81496]\n",
      " [    50 149336]\n",
      " [    40  75308]\n",
      " [    52 100654]\n",
      " [    41 126711]\n",
      " [    40 108120]\n",
      " [    49 105753]\n",
      " [    20 136968]\n",
      " [    24  93042]\n",
      " [    28 123123]\n",
      " [    20  82371]\n",
      " [    23 124432]\n",
      " [    39  77263]\n",
      " [    42  74062]\n",
      " [    56  66914]\n",
      " [    20 135880]\n",
      " [    56 141015]\n",
      " [    47  56095]\n",
      " [    54 105953]\n",
      " [    31 134226]\n",
      " [    40 140382]\n",
      " [    52  83150]\n",
      " [    43 134224]\n",
      " [    45  56858]\n",
      " [    58  78749]\n",
      " [    30  85067]\n",
      " [    32 126056]\n",
      " [    25 113954]\n",
      " [    48  95856]\n",
      " [    33  97459]\n",
      " [    47 135037]\n",
      " [    26 119179]\n",
      " [    54 149039]\n",
      " [    45  82604]\n",
      " [    58 141603]\n",
      " [    54  78694]\n",
      " [    57 124533]\n",
      " [    50 131911]\n",
      " [    41  59001]\n",
      " [    46 121055]\n",
      " [    56 129867]\n",
      " [    29  92841]\n",
      " [    30  52952]\n",
      " [    37 110760]\n",
      " [    26 118184]\n",
      " [    33 112314]\n",
      " [    41  89916]\n",
      " [    30 121311]\n",
      " [    35  89632]\n",
      " [    45 100855]\n",
      " [    43  65553]\n",
      " [    54  53506]\n",
      " [    52  52428]\n",
      " [    58  82785]\n",
      " [    30  53649]\n",
      " [    22  87705]\n",
      " [    52  89220]\n",
      " [    46 144559]\n",
      " [    56 100871]\n",
      " [    25 144076]\n",
      " [    22  92835]\n",
      " [    42 143855]\n",
      " [    40 134666]\n",
      " [    58  60780]\n",
      " [    38  71907]\n",
      " [    53 117339]\n",
      " [    24  59930]\n",
      " [    45  81582]\n",
      " [    43 105079]\n",
      " [    54  89483]\n",
      " [    30 101011]\n",
      " [    24  63875]\n",
      " [    43  78367]\n",
      " [    34  98157]\n",
      " [    21  67195]\n",
      " [    27  60011]\n",
      " [    43  85692]\n",
      " [    31 122030]\n",
      " [    35 111404]\n",
      " [    51 112365]\n",
      " [    24 145116]\n",
      " [    53  84777]\n",
      " [    24 117799]\n",
      " [    49 123887]\n",
      " [    37 110617]\n",
      " [    39  66443]\n",
      " [    28  74078]\n",
      " [    34  53024]\n",
      " [    45  60629]\n",
      " [    38  96053]\n",
      " [    37 115700]\n",
      " [    32 149553]\n",
      " [    22  54897]\n",
      " [    57 106814]\n",
      " [    26  82215]\n",
      " [    34  97989]\n",
      " [    34 129656]\n",
      " [    48  54293]\n",
      " [    41 115121]\n",
      " [    47  58050]\n",
      " [    32 106526]\n",
      " [    31  66259]\n",
      " [    56 114193]\n",
      " [    32  93654]\n",
      " [    30  90905]\n",
      " [    32  87630]\n",
      " [    23  57412]\n",
      " [    35 138992]\n",
      " [    55  79423]\n",
      " [    23  58900]\n",
      " [    32  79811]\n",
      " [    42  73731]\n",
      " [    45  97845]\n",
      " [    46 124974]\n",
      " [    25 126831]\n",
      " [    29 129796]\n",
      " [    44 113742]\n",
      " [    46 140395]\n",
      " [    33  96753]\n",
      " [    25  73636]\n",
      " [    54 131776]\n",
      " [    53 115173]\n",
      " [    23 132989]\n",
      " [    55  78749]\n",
      " [    26 114306]\n",
      " [    29 144160]\n",
      " [    59  73810]\n",
      " [    45  69716]\n",
      " [    52 103076]\n",
      " [    31 120701]\n",
      " [    43  88766]\n",
      " [    51 145365]\n",
      " [    39 100402]\n",
      " [    33 133440]\n",
      " [    28  79496]\n",
      " [    42  59216]\n",
      " [    23  59666]\n",
      " [    28  96148]\n",
      " [    57 104693]\n",
      " [    38 125226]\n",
      " [    25  64832]\n",
      " [    44 147276]\n",
      " [    36  51894]\n",
      " [    46  87539]\n",
      " [    44 123166]\n",
      " [    58  80730]\n",
      " [    52  61880]\n",
      " [    55  55940]\n",
      " [    36  83172]\n",
      " [    57  62224]\n",
      " [    29  85752]\n",
      " [    21  92044]\n",
      " [    58 114689]\n",
      " [    25  75753]\n",
      " [    39 147108]\n",
      " [    27 116149]\n",
      " [    41  76066]\n",
      " [    28 139815]\n",
      " [    51  89365]\n",
      " [    30  96984]\n",
      " [    45  83469]\n",
      " [    43 123902]\n",
      " [    31 103674]\n",
      " [    25 149284]\n",
      " [    55 101685]\n",
      " [    29  84375]\n",
      " [    59  80400]\n",
      " [    35 116617]\n",
      " [    48  63697]\n",
      " [    23 125328]\n",
      " [    31 115264]\n",
      " [    22  52203]\n",
      " [    55  79300]\n",
      " [    24 118146]\n",
      " [    45 118915]\n",
      " [    32 145807]\n",
      " [    25  89964]\n",
      " [    57 100193]\n",
      " [    59  51243]\n",
      " [    59  96999]\n",
      " [    51 120749]\n",
      " [    47  90983]\n",
      " [    38  66879]\n",
      " [    59  56930]\n",
      " [    60  74753]\n",
      " [    24 142544]\n",
      " [    56  71895]\n",
      " [    39 138840]\n",
      " [    36  73233]\n",
      " [    37 144858]\n",
      " [    37 137622]\n",
      " [    20  61919]\n",
      " [    59  83724]\n",
      " [    50 114793]\n",
      " [    51 117179]\n",
      " [    60  64051]\n",
      " [    35  56687]\n",
      " [    57 101429]\n",
      " [    43  74931]\n",
      " [    27  71384]\n",
      " [    30 130926]\n",
      " [    22 111072]\n",
      " [    57 137143]\n",
      " [    37  65536]\n",
      " [    25  89304]\n",
      " [    23 140900]\n",
      " [    50 136552]\n",
      " [    54  75491]\n",
      " [    52  71429]\n",
      " [    59  81753]\n",
      " [    44  95919]\n",
      " [    47 108041]\n",
      " [    29  83561]\n",
      " [    47 118252]\n",
      " [    52  74847]\n",
      " [    25  58866]\n",
      " [    38  64972]\n",
      " [    20  64957]\n",
      " [    22 111361]\n",
      " [    43  91205]\n",
      " [    41  65781]\n",
      " [    32 126318]\n",
      " [    23 140167]\n",
      " [    28  94239]\n",
      " [    52 125189]\n",
      " [    52  63103]\n",
      " [    40 107099]\n",
      " [    49  59438]\n",
      " [    36 134882]\n",
      " [    28  58789]\n",
      " [    37 145025]\n",
      " [    22 146149]\n",
      " [    31 127446]\n",
      " [    39  83401]\n",
      " [    21 123460]\n",
      " [    51  64207]\n",
      " [    49 128666]\n",
      " [    48 120137]\n",
      " [    28  80299]\n",
      " [    30 104548]\n",
      " [    24 138809]\n",
      " [    42 130324]\n",
      " [    59 139963]\n",
      " [    60  72905]\n",
      " [    51  52093]\n",
      " [    36 119778]\n",
      " [    33  86617]\n",
      " [    29  69997]\n",
      " [    21  89174]\n",
      " [    44 143222]\n",
      " [    29 130705]\n",
      " [    59  80220]\n",
      " [    28 119752]\n",
      " [    21  76043]\n",
      " [    44 145967]\n",
      " [    25  79824]\n",
      " [    43  89982]\n",
      " [    46 147530]\n",
      " [    36  60575]\n",
      " [    43  78098]\n",
      " [    55  81409]\n",
      " [    28  70948]\n",
      " [    50 104297]\n",
      " [    48 127871]\n",
      " [    33 126297]\n",
      " [    24 110968]\n",
      " [    53  91670]\n",
      " [    39  91484]\n",
      " [    38  79015]\n",
      " [    47 105738]\n",
      " [    60 149376]\n",
      " [    32 132339]\n",
      " [    55  65263]\n",
      " [    43 121151]\n",
      " [    55 143658]\n",
      " [    39 107871]\n",
      " [    35  88727]\n",
      " [    55  78055]\n",
      " [    36  58593]\n",
      " [    27  62004]\n",
      " [    51  99881]\n",
      " [    42  72411]\n",
      " [    47  91721]\n",
      " [    34 140775]\n",
      " [    35  79146]\n",
      " [    58 128623]\n",
      " [    25 128311]\n",
      " [    23  72896]\n",
      " [    57 115969]\n",
      " [    28 111173]\n",
      " [    41 107820]\n",
      " [    20 141231]\n",
      " [    50  75848]\n",
      " [    25  82560]\n",
      " [    55 147667]\n",
      " [    54 134972]]\n"
     ]
    }
   ],
   "source": [
    "x= dataset.iloc [:,2:4].values\n",
    "print (x) "
   ]
  },
  {
   "cell_type": "code",
   "execution_count": 15,
   "id": "427b9a97",
   "metadata": {},
   "outputs": [
    {
     "name": "stdout",
     "output_type": "stream",
     "text": [
      "[0 0 0 0 0 0 0 1 0 0 0 0 0 0 0 0 1 1 1 1 1 1 1 1 1 1 1 1 0 0 0 1 0 0 0 0 0\n",
      " 0 0 0 0 0 0 0 0 0 0 0 1 0 0 0 0 0 0 0 0 0 0 0 0 0 0 1 0 0 0 0 0 0 0 0 0 0\n",
      " 0 1 0 0 0 0 0 0 0 0 0 1 0 0 0 0 0 0 0 0 0 0 0 1 0 0 0 0 0 1 0 0 0 0 0 0 0\n",
      " 0 0 0 0 0 0 0 0 0 0 0 0 0 0 0 0 0 0 0 0 0 0 0 0 0 0 1 0 0 0 0 0 0 0 0 1 0\n",
      " 0 0 0 0 0 0 0 0 0 0 0 1 1 0 0 0 0 0 0 0 1 0 0 0 0 0 0 0 0 0 0 0 0 0 1 0 0\n",
      " 0 0 0 0 0 0 0 0 0 0 0 0 0 0 0 0 0 1 0 1 0 1 0 1 0 1 1 0 0 0 1 0 0 0 1 0 1\n",
      " 1 1 0 0 1 1 0 1 1 0 1 1 0 1 0 0 0 1 1 0 1 1 0 1 0 1 0 1 0 0 1 1 0 1 0 0 1\n",
      " 1 0 1 1 0 1 1 0 0 1 0 0 1 1 1 1 1 0 1 1 1 1 0 1 1 0 1 0 1 0 1 1 1 1 0 0 0\n",
      " 1 1 0 1 1 1 1 1 0 0 0 1 1 0 0 1 0 1 0 1 1 0 1 0 1 1 0 1 1 0 0 0 1 1 0 1 0\n",
      " 0 1 0 1 0 0 1 1 0 0 1 1 0 1 1 0 0 1 0 1 0 1 1 1 0 1 0 1 1 1 0 1 1 1 1 0 1\n",
      " 1 1 0 1 0 1 0 0 1 1 0 1 1 1 1 1 1 0 1 1 1 1 1 1 0 1 1 1 0 1]\n"
     ]
    }
   ],
   "source": [
    "y = dataset.iloc[:,4].values\n",
    "print (y)"
   ]
  },
  {
   "cell_type": "code",
   "execution_count": 16,
   "id": "afb24920",
   "metadata": {},
   "outputs": [
    {
     "data": {
      "image/png": "[encoded data removed]",
      "text/plain": [
       "<Figure size 432x288 with 1 Axes>"
      ]
     },
     "metadata": {
      "needs_background": "light"
     },
     "output_type": "display_data"
    }
   ],
   "source": [
    "plt.scatter (x[y == 0,0],x[y == 0,1] ,s = 100, c='r', label = 'Cluster 1')\n",
    "plt.scatter (x[y == 1,0],x[y == 1,1] ,s = 100, c='b', label = 'Cluster 2')\n",
    "plt.show()"
   ]
  },
  {
   "cell_type": "markdown",
   "id": "feddd47a",
   "metadata": {},
   "source": [
    "# Feature Scaling – Standardization (To standardize Salary)"
   ]
  },
  {
   "cell_type": "code",
   "execution_count": 17,
   "id": "bb4ec058",
   "metadata": {},
   "outputs": [
    {
     "name": "stdout",
     "output_type": "stream",
     "text": [
      "[[ 0.17951354  0.76103154]\n",
      " [ 1.11315372 -1.14804259]\n",
      " [ 1.622412    0.39722026]\n",
      " [-0.0751156  -1.63500628]\n",
      " [-0.0751156   0.51296235]\n",
      " [-0.0751156   0.27205647]\n",
      " [-1.68776681 -0.49988685]\n",
      " [ 1.622412    1.71449234]\n",
      " [ 0.68877182 -0.67642883]\n",
      " [ 0.17951354  0.51010409]\n",
      " [-0.66925025 -0.42211381]\n",
      " [ 0.7736482   0.48681452]\n",
      " [ 1.28290648 -0.40397617]\n",
      " [ 1.1980301   1.66971285]\n",
      " [ 1.45265924  1.40703476]\n",
      " [ 0.09463716  1.23391563]\n",
      " [ 0.94340096  0.58523059]\n",
      " [ 1.28290648 -0.95915007]\n",
      " [ 0.3492663   0.82945347]\n",
      " [ 0.60389544  0.48695567]\n",
      " [ 1.02827734 -0.72004384]\n",
      " [-1.68776681  0.2258655 ]\n",
      " [ 0.00976078 -1.41410826]\n",
      " [ 1.02827734 -0.82625839]\n",
      " [-1.00875577  0.67023751]\n",
      " [-1.51801405  0.21697311]\n",
      " [-1.26338491  0.53166458]\n",
      " [-0.15999198 -0.50532108]\n",
      " [ 1.45265924  0.50308193]\n",
      " [ 1.45265924  1.18754822]\n",
      " [ 0.26438992  0.24622622]\n",
      " [-0.41462111 -0.53630326]\n",
      " [-0.49949749 -0.12181953]\n",
      " [-0.66925025 -1.08628994]\n",
      " [ 1.28290648 -0.31060618]\n",
      " [ 0.68877182 -1.6924186 ]\n",
      " [-1.51801405 -1.6164452 ]\n",
      " [ 0.17951354  1.38254542]\n",
      " [ 1.622412    0.59020609]\n",
      " [-1.43313767 -0.08695575]\n",
      " [ 0.00976078  1.17163368]\n",
      " [-1.34826129  0.69021008]\n",
      " [ 0.85852458  0.73844772]\n",
      " [ 0.09463716  0.48692038]\n",
      " [ 1.02827734  0.10366584]\n",
      " [-0.49949749  1.42961858]\n",
      " [-1.68776681 -1.61168143]\n",
      " [-1.26338491 -1.27151258]\n",
      " [ 0.51901906 -1.54170686]\n",
      " [ 1.53753562 -1.22433356]\n",
      " [-0.15999198 -0.9753822 ]\n",
      " [-1.60289043  0.31433057]\n",
      " [ 0.17951354  0.73717738]\n",
      " [-0.75412663 -1.11914235]\n",
      " [-1.17850853 -0.68687385]\n",
      " [ 0.60389544 -1.36901118]\n",
      " [-0.75412663  0.82532486]\n",
      " [-0.32974473 -0.04302315]\n",
      " [-1.26338491  0.76053752]\n",
      " [-1.00875577 -1.36223604]\n",
      " [ 0.09463716  0.27018625]\n",
      " [-0.66925025 -0.44872037]\n",
      " [ 1.11315372  0.66325064]\n",
      " [-0.15999198 -1.27052454]\n",
      " [ 0.26438992 -1.63535915]\n",
      " [-0.49949749 -0.39084932]\n",
      " [-0.92387939 -0.12647744]\n",
      " [ 0.60389544  0.83065323]\n",
      " [-0.75412663  0.80718723]\n",
      " [-0.75412663 -0.74287468]\n",
      " [ 0.94340096  1.50947357]\n",
      " [ 1.622412   -0.42670114]\n",
      " [-0.92387939  1.51166138]\n",
      " [-1.26338491  1.29902056]\n",
      " [ 1.622412    1.66244369]\n",
      " [ 1.70728837  1.50372175]\n",
      " [-0.41462111 -1.06398842]\n",
      " [-1.17850853 -1.1156842 ]\n",
      " [-0.32974473  0.37756527]\n",
      " [-1.43313767 -0.57737759]\n",
      " [ 1.53753562  0.31157816]\n",
      " [-0.83900301  1.46935199]\n",
      " [ 0.26438992  1.75083818]\n",
      " [ 1.36778286 -1.46213417]\n",
      " [ 0.94340096  0.10130159]\n",
      " [-1.00875577 -1.57385352]\n",
      " [ 0.09463716 -1.75283032]\n",
      " [-0.49949749  0.28073713]\n",
      " [ 0.26438992  0.53240561]\n",
      " [ 0.60389544  0.7790986 ]\n",
      " [-0.49949749 -0.64597596]\n",
      " [-0.49949749  0.26785729]\n",
      " [-1.17850853  0.44012952]\n",
      " [ 0.43414268 -0.14549725]\n",
      " [ 1.45265924  0.79060223]\n",
      " [ 0.94340096 -0.14390933]\n",
      " [-0.49949749  1.52782293]\n",
      " [ 1.622412    1.34443522]\n",
      " [-0.32974473 -1.67844485]\n",
      " [-0.32974473 -0.70977526]\n",
      " [-1.43313767  0.48762613]\n",
      " [ 1.1980301   1.47609185]\n",
      " [-0.24486835 -1.2051726 ]\n",
      " [-0.32974473  0.44256434]\n",
      " [-0.49949749 -0.64407045]\n",
      " [ 0.85852458  1.74981485]\n",
      " [ 0.00976078 -0.86242779]\n",
      " [ 1.02827734  0.0319622 ]\n",
      " [ 0.09463716  0.9514414 ]\n",
      " [ 0.00976078  0.29541661]\n",
      " [ 0.7736482   0.21189175]\n",
      " [-1.68776681  1.31338246]\n",
      " [-1.34826129 -0.23664415]\n",
      " [-1.00875577  0.82483084]\n",
      " [-1.68776681 -0.61319413]\n",
      " [-1.43313767  0.87102182]\n",
      " [-0.0751156  -0.79344127]\n",
      " [ 0.17951354 -0.90639567]\n",
      " [ 1.36778286 -1.15862875]\n",
      " [-1.68776681  1.27498996]\n",
      " [ 1.36778286  1.45618986]\n",
      " [ 0.60389544 -1.54040123]\n",
      " [ 1.1980301   0.2189492 ]\n",
      " [-0.75412663  1.21662489]\n",
      " [ 0.00976078  1.43385305]\n",
      " [ 1.02827734 -0.58570538]\n",
      " [ 0.26438992  1.21655432]\n",
      " [ 0.43414268 -1.51347708]\n",
      " [ 1.53753562 -0.74100445]\n",
      " [-0.83900301 -0.51805977]\n",
      " [-0.66925025  0.92832827]\n",
      " [-1.26338491  0.50128228]\n",
      " [ 0.68877182 -0.13734591]\n",
      " [-0.58437387 -0.08078048]\n",
      " [ 0.60389544  1.24524283]\n",
      " [-1.17850853  0.68565803]\n",
      " [ 1.1980301   1.73933455]\n",
      " [ 0.43414268 -0.6049722 ]\n",
      " [ 1.53753562  1.47693875]\n",
      " [ 1.1980301  -0.74294525]\n",
      " [ 1.45265924  0.87458583]\n",
      " [ 0.85852458  1.13493497]\n",
      " [ 0.09463716 -1.43785656]\n",
      " [ 0.51901906  0.75185686]\n",
      " [ 1.36778286  1.06280788]\n",
      " [-0.92387939 -0.24373689]\n",
      " [-0.83900301 -1.65130898]\n",
      " [-0.24486835  0.38857489]\n",
      " [-1.17850853  0.65054724]\n",
      " [-0.58437387  0.44341123]\n",
      " [ 0.09463716 -0.34695202]\n",
      " [-0.83900301  0.76089039]\n",
      " [-0.41462111 -0.35697359]\n",
      " [ 0.43414268  0.03905493]\n",
      " [ 0.26438992 -1.20665466]\n",
      " [ 1.1980301  -1.63175986]\n",
      " [ 1.02827734 -1.66979948]\n",
      " [ 1.53753562 -0.59858521]\n",
      " [-0.83900301 -1.62671378]\n",
      " [-1.51801405 -0.42497207]\n",
      " [ 1.02827734 -0.37151193]\n",
      " [ 0.51901906  1.58124778]\n",
      " [ 1.36778286  0.03961953]\n",
      " [-1.26338491  1.56420405]\n",
      " [-1.51801405 -0.24394861]\n",
      " [ 0.17951354  1.55640558]\n",
      " [ 0.00976078  1.23215127]\n",
      " [ 1.53753562 -1.37508059]\n",
      " [-0.15999198 -0.98243964]\n",
      " [ 1.11315372  0.62072954]\n",
      " [-1.34826129 -1.40507473]\n",
      " [ 0.43414268 -0.64103575]\n",
      " [ 0.26438992  0.18810817]\n",
      " [ 1.1980301  -0.36223139]\n",
      " [-0.83900301  0.04455974]\n",
      " [-1.34826129 -1.26586663]\n",
      " [ 0.26438992 -0.75448417]\n",
      " [-0.49949749 -0.05615   ]\n",
      " [-1.60289043 -1.14871304]\n",
      " [-1.09363215 -1.40221646]\n",
      " [ 0.26438992 -0.49600525]\n",
      " [-0.75412663  0.78626191]\n",
      " [-0.41462111  0.41129986]\n",
      " [ 0.94340096  0.44521088]\n",
      " [-1.34826129  1.60090277]\n",
      " [ 1.11315372 -0.52829306]\n",
      " [-1.34826129  0.63696166]\n",
      " [ 0.7736482   0.85179028]\n",
      " [-0.24486835  0.38352881]\n",
      " [-0.0751156  -1.17524904]\n",
      " [-1.00875577 -0.90583108]\n",
      " [-0.49949749 -1.6487683 ]\n",
      " [ 0.43414268 -1.38040896]\n",
      " [-0.15999198 -0.13039432]\n",
      " [-0.24486835  0.56289378]\n",
      " [-0.66925025  1.75747218]\n",
      " [-1.51801405 -1.58267533]\n",
      " [ 1.45265924  0.2493315 ]\n",
      " [-1.17850853 -0.61869893]\n",
      " [-0.49949749 -0.06207826]\n",
      " [-0.49949749  1.05536228]\n",
      " [ 0.68877182 -1.60398881]\n",
      " [ 0.09463716  0.54246247]\n",
      " [ 0.60389544 -1.47141471]\n",
      " [-0.66925025  0.23916878]\n",
      " [-0.75412663 -1.18174188]\n",
      " [ 1.36778286  0.50971593]\n",
      " [-0.66925025 -0.21504837]\n",
      " [-0.83900301 -0.31205295]\n",
      " [-0.66925025 -0.42761861]\n",
      " [-1.43313767 -1.49392796]\n",
      " [-0.41462111  1.3848038 ]\n",
      " [ 1.28290648 -0.71722086]\n",
      " [-1.43313767 -1.44142057]\n",
      " [-0.66925025 -0.70352942]\n",
      " [ 0.17951354 -0.91807574]\n",
      " [ 0.43414268 -0.06715962]\n",
      " [ 0.51901906  0.89014749]\n",
      " [-1.26338491  0.95567587]\n",
      " [-0.92387939  1.06030249]\n",
      " [ 0.3492663   0.49380139]\n",
      " [ 0.51901906  1.43431178]\n",
      " [-0.58437387 -0.10569326]\n",
      " [-1.26338491 -0.92142803]\n",
      " [ 1.1980301   1.13017119]\n",
      " [ 1.11315372  0.54429741]\n",
      " [-1.43313767  1.1729746 ]\n",
      " [ 1.28290648 -0.74100445]\n",
      " [-1.17850853  0.51370338]\n",
      " [-0.92387939  1.56716818]\n",
      " [ 1.622412   -0.91528805]\n",
      " [ 0.43414268 -1.05975395]\n",
      " [ 1.02827734  0.11742785]\n",
      " [-0.75412663  0.73936518]\n",
      " [ 0.26438992 -0.38753233]\n",
      " [ 0.94340096  1.60968929]\n",
      " [-0.0751156   0.02306982]\n",
      " [-0.58437387  1.18888914]\n",
      " [-1.00875577 -0.7146449 ]\n",
      " [ 0.17951354 -1.43026981]\n",
      " [-1.43313767 -1.41439055]\n",
      " [-1.00875577 -0.12704204]\n",
      " [ 1.45265924  0.1744873 ]\n",
      " [-0.15999198  0.89903987]\n",
      " [-1.26338491 -1.23209675]\n",
      " [ 0.3492663   1.67712317]\n",
      " [-0.32974473 -1.68864286]\n",
      " [ 0.51901906 -0.43082975]\n",
      " [ 0.3492663   0.82634819]\n",
      " [ 1.53753562 -0.67110046]\n",
      " [ 1.02827734 -1.33626464]\n",
      " [ 1.28290648 -1.54587075]\n",
      " [-0.32974473 -0.58492906]\n",
      " [ 1.45265924 -1.32412583]\n",
      " [-0.92387939 -0.49388802]\n",
      " [-1.60289043 -0.2718608 ]\n",
      " [ 1.53753562  0.52721839]\n",
      " [-1.26338491 -0.84672498]\n",
      " [-0.0751156   1.67119492]\n",
      " [-1.09363215  0.57873774]\n",
      " [ 0.09463716 -0.83568008]\n",
      " [-1.00875577  1.41384519]\n",
      " [ 0.94340096 -0.36639528]\n",
      " [-0.83900301 -0.09754192]\n",
      " [ 0.43414268 -0.57444875]\n",
      " [ 0.26438992  0.85231959]\n",
      " [-0.75412663  0.13852961]\n",
      " [-1.26338491  1.74797992]\n",
      " [ 1.28290648  0.06834333]\n",
      " [-0.92387939 -0.54247853]\n",
      " [ 1.622412   -0.68274524]\n",
      " [-0.41462111  0.59525216]\n",
      " [ 0.68877182 -1.27214775]\n",
      " [-1.43313767  0.90263917]\n",
      " [-0.75412663  0.54750855]\n",
      " [-1.51801405 -1.67773911]\n",
      " [ 1.28290648 -0.72156119]\n",
      " [-1.34826129  0.64920633]\n",
      " [ 0.43414268  0.6763422 ]\n",
      " [-0.66925025  1.62528624]\n",
      " [-1.26338491 -0.34525823]\n",
      " [ 1.45265924  0.01569479]\n",
      " [ 1.622412   -1.71161485]\n",
      " [ 1.622412   -0.09701261]\n",
      " [ 0.94340096  0.74105897]\n",
      " [ 0.60389544 -0.30930055]\n",
      " [-0.15999198 -1.15986381]\n",
      " [ 1.622412   -1.5109364 ]\n",
      " [ 1.70728837 -0.8820122 ]\n",
      " [-1.34826129  1.51014403]\n",
      " [ 1.36778286 -0.98286309]\n",
      " [-0.0751156   1.37944015]\n",
      " [-0.32974473 -0.93564878]\n",
      " [-0.24486835  1.59179866]\n",
      " [-0.24486835  1.33646031]\n",
      " [-1.68776681 -1.33488844]\n",
      " [ 1.622412   -0.56545051]\n",
      " [ 0.85852458  0.53088826]\n",
      " [ 0.94340096  0.61508358]\n",
      " [ 1.70728837 -1.25965608]\n",
      " [-0.41462111 -1.5195112 ]\n",
      " [ 1.45265924  0.0593098 ]\n",
      " [ 0.26438992 -0.87573107]\n",
      " [-1.09363215 -1.00089486]\n",
      " [-0.83900301  1.10017705]\n",
      " [-1.51801405  0.3995845 ]\n",
      " [ 1.45265924  1.31955773]\n",
      " [-0.24486835 -1.20725455]\n",
      " [-1.26338491 -0.3685478 ]\n",
      " [-1.43313767  1.45213183]\n",
      " [ 0.85852458  1.29870298]\n",
      " [ 1.1980301  -0.85597023]\n",
      " [ 1.02827734 -0.99930693]\n",
      " [ 1.622412   -0.63500163]\n",
      " [ 0.3492663  -0.13512281]\n",
      " [ 0.60389544  0.29262892]\n",
      " [-0.92387939 -0.57120233]\n",
      " [ 0.60389544  0.65294677]\n",
      " [ 1.02827734 -0.8786952 ]\n",
      " [-1.26338491 -1.44262033]\n",
      " [-0.15999198 -1.22715654]\n",
      " [-1.68776681 -1.22768585]\n",
      " [-1.51801405  0.40978251]\n",
      " [ 0.26438992 -0.30146679]\n",
      " [ 0.09463716 -1.19860918]\n",
      " [-0.66925025  0.93757352]\n",
      " [-1.43313767  1.42626629]\n",
      " [-1.00875577 -0.19440535]\n",
      " [ 1.02827734  0.89773425]\n",
      " [ 1.02827734 -1.29310836]\n",
      " [ 0.00976078  0.25938836]\n",
      " [ 0.7736482  -1.42243604]\n",
      " [-0.32974473  1.23977331]\n",
      " [-1.00875577 -1.44533745]\n",
      " [-0.24486835  1.59769163]\n",
      " [-1.51801405  1.63735447]\n",
      " [-0.75412663  0.97737751]\n",
      " [-0.0751156  -0.57684828]\n",
      " [-1.60289043  0.83672264]\n",
      " [ 0.94340096 -1.25415127]\n",
      " [ 0.7736482   1.02042793]\n",
      " [ 0.68877182  0.71946319]\n",
      " [-1.00875577 -0.68630925]\n",
      " [-0.83900301  0.16937065]\n",
      " [-1.34826129  1.37834624]\n",
      " [ 0.17951354  1.07893414]\n",
      " [ 1.622412    1.4190677 ]\n",
      " [ 1.70728837 -0.94722299]\n",
      " [ 0.94340096 -1.6816207 ]\n",
      " [-0.32974473  0.70679508]\n",
      " [-0.58437387 -0.46336457]\n",
      " [-0.92387939 -1.04983824]\n",
      " [-1.60289043 -0.37313514]\n",
      " [ 0.3492663   1.53406876]\n",
      " [-0.92387939  1.09237858]\n",
      " [ 1.622412   -0.68909695]\n",
      " [-1.00875577  0.70587761]\n",
      " [-1.60289043 -0.83649168]\n",
      " [ 0.3492663   1.63093219]\n",
      " [-1.26338491 -0.70307069]\n",
      " [ 0.26438992 -0.34462306]\n",
      " [ 0.51901906  1.68608613]\n",
      " [-0.32974473 -1.38231447]\n",
      " [ 0.26438992 -0.76397644]\n",
      " [ 1.28290648 -0.64714044]\n",
      " [-1.00875577 -1.01628009]\n",
      " [ 0.85852458  0.16051356]\n",
      " [ 0.68877182  0.99237458]\n",
      " [-0.58437387  0.93683249]\n",
      " [-1.34826129  0.39591463]\n",
      " [ 1.11315372 -0.28505823]\n",
      " [-0.0751156  -0.29162165]\n",
      " [-0.15999198 -0.73161805]\n",
      " [ 0.60389544  0.21136245]\n",
      " [ 1.70728837  1.75122634]\n",
      " [-0.66925025  1.1500379 ]\n",
      " [ 1.28290648 -1.21688796]\n",
      " [ 0.26438992  0.75524444]\n",
      " [ 1.28290648  1.54945399]\n",
      " [-0.0751156   0.2866301 ]\n",
      " [-0.41462111 -0.38890853]\n",
      " [ 1.28290648 -0.76549379]\n",
      " [-0.32974473 -1.45225375]\n",
      " [-1.09363215 -1.33188902]\n",
      " [ 0.94340096  0.00468517]\n",
      " [ 0.17951354 -0.96465488]\n",
      " [ 0.60389544 -0.28325858]\n",
      " [-0.49949749  1.44772093]\n",
      " [-0.41462111 -0.72699542]\n",
      " [ 1.53753562  1.01891058]\n",
      " [-1.26338491  1.00790096]\n",
      " [-1.43313767 -0.94754058]\n",
      " [ 1.45265924  0.57238604]\n",
      " [-1.00875577  0.40314851]\n",
      " [ 0.09463716  0.28483045]\n",
      " [-1.68776681  1.4638119 ]\n",
      " [ 0.85852458 -0.84337269]\n",
      " [-1.26338491 -0.60652484]\n",
      " [ 1.28290648  1.69092048]\n",
      " [ 1.1980301   1.24294916]]\n"
     ]
    }
   ],
   "source": [
    "sc_x= StandardScaler()\n",
    "x = sc_x.fit_transform(x)\n",
    "print (x)"
   ]
  },
  {
   "cell_type": "code",
   "execution_count": 18,
   "id": "d0ff2917",
   "metadata": {},
   "outputs": [
    {
     "data": {
      "text/plain": [
       "((400, 2), (400,))"
      ]
     },
     "execution_count": 18,
     "metadata": {},
     "output_type": "execute_result"
    }
   ],
   "source": [
    "x.shape, y.shape"
   ]
  },
  {
   "cell_type": "markdown",
   "id": "fd0f0bd1",
   "metadata": {},
   "source": [
    "# Dividing the dataset into Train and Test parts"
   ]
  },
  {
   "cell_type": "code",
   "execution_count": 19,
   "id": "940f7ec1",
   "metadata": {},
   "outputs": [],
   "source": [
    "x_train,x_test,y_train,y_test = train_test_split(x,y,test_size= 0.2)"
   ]
  },
  {
   "cell_type": "code",
   "execution_count": 20,
   "id": "9e211de1",
   "metadata": {},
   "outputs": [
    {
     "data": {
      "text/plain": [
       "(320, 2)"
      ]
     },
     "execution_count": 20,
     "metadata": {},
     "output_type": "execute_result"
    }
   ],
   "source": [
    "x_train.shape"
   ]
  },
  {
   "cell_type": "code",
   "execution_count": 21,
   "id": "8c50c08e",
   "metadata": {},
   "outputs": [
    {
     "data": {
      "text/plain": [
       "(80, 2)"
      ]
     },
     "execution_count": 21,
     "metadata": {},
     "output_type": "execute_result"
    }
   ],
   "source": [
    "x_test.shape"
   ]
  },
  {
   "cell_type": "code",
   "execution_count": 22,
   "id": "6227f023",
   "metadata": {},
   "outputs": [
    {
     "data": {
      "text/plain": [
       "(80,)"
      ]
     },
     "execution_count": 22,
     "metadata": {},
     "output_type": "execute_result"
    }
   ],
   "source": [
    "y_test.shape"
   ]
  },
  {
   "cell_type": "code",
   "execution_count": 23,
   "id": "4ac7137b",
   "metadata": {},
   "outputs": [
    {
     "data": {
      "text/plain": [
       "(320,)"
      ]
     },
     "execution_count": 23,
     "metadata": {},
     "output_type": "execute_result"
    }
   ],
   "source": [
    "y_train.shape"
   ]
  },
  {
   "cell_type": "markdown",
   "id": "904de766",
   "metadata": {},
   "source": [
    "# Running a Classifier"
   ]
  },
  {
   "cell_type": "code",
   "execution_count": 25,
   "id": "1d1bca8a",
   "metadata": {},
   "outputs": [],
   "source": [
    "knn = KNeighborsClassifier()\n"
   ]
  },
  {
   "cell_type": "markdown",
   "id": "7dc1d1b5",
   "metadata": {},
   "source": [
    "# Fitting the model"
   ]
  },
  {
   "cell_type": "code",
   "execution_count": null,
   "id": "dd6b9f44",
   "metadata": {},
   "outputs": [],
   "source": [
    "knn =knn.fit (x_train, y_train)"
   ]
  },
  {
   "cell_type": "markdown",
   "id": "6dd587b3",
   "metadata": {},
   "source": [
    "# Predicting the output"
   ]
  },
  {
   "cell_type": "code",
   "execution_count": 30,
   "id": "6d07905e",
   "metadata": {
    "scrolled": true
   },
   "outputs": [
    {
     "data": {
      "text/plain": [
       "array([0, 0, 0, 1, 1, 0, 0, 0, 0, 0, 0, 0, 0, 1, 1, 0, 0, 0, 0, 0, 0, 1,\n",
       "       0, 0, 1, 0, 0, 0, 1, 1, 0, 1, 0, 0, 0, 1, 0, 1, 0, 0, 0, 0, 0, 1,\n",
       "       0, 0, 0, 0, 1, 0, 0, 0, 0, 0, 1, 1, 0, 0, 1, 0, 0, 0, 1, 1, 0, 1,\n",
       "       0, 1, 0, 1, 0, 0, 0, 0, 0, 1, 0, 0, 0, 0], dtype=int64)"
      ]
     },
     "execution_count": 30,
     "metadata": {},
     "output_type": "execute_result"
    }
   ],
   "source": [
    "y_pred =knn.predict(x_test)#defaul n =5\n",
    "y_pred"
   ]
  },
  {
   "cell_type": "markdown",
   "id": "50bef28d",
   "metadata": {},
   "source": [
    "# Evaluating the Accuracy score of the model"
   ]
  },
  {
   "cell_type": "code",
   "execution_count": 35,
   "id": "3f76030f",
   "metadata": {},
   "outputs": [
    {
     "data": {
      "text/plain": [
       "62.5"
      ]
     },
     "execution_count": 35,
     "metadata": {},
     "output_type": "execute_result"
    }
   ],
   "source": [
    "accuracy_score (y_test,y_pred)*100"
   ]
  },
  {
   "cell_type": "code",
   "execution_count": 32,
   "id": "e7f54d03",
   "metadata": {},
   "outputs": [
    {
     "data": {
      "text/plain": [
       "array([0, 0, 0, 0, 0, 0, 1, 1, 0, 0, 0, 0, 0, 0, 0, 0, 0, 0, 0, 1, 1, 0,\n",
       "       1, 1, 1, 0, 0, 1, 0, 0, 0, 0, 0, 0, 0, 0, 0, 0, 0, 0, 0, 0, 0, 0,\n",
       "       0, 0, 0, 0, 0, 0, 0, 0, 0, 0, 0, 0, 0, 0, 0, 0, 0, 0, 0, 1, 1, 0,\n",
       "       0, 0, 0, 0, 0, 0, 1, 1, 1, 1, 1, 0, 0, 0, 0, 1, 1, 0, 0, 0, 0, 0,\n",
       "       0, 0, 0, 0, 1, 1, 0, 1, 0, 1, 0, 0, 0, 0, 1, 1, 1, 0, 0, 0, 0, 0,\n",
       "       1, 1, 0, 0, 0, 0, 0, 0, 0, 1, 0, 0, 0, 1, 0, 1, 0, 0, 1, 0, 0, 0,\n",
       "       0, 0, 0, 0, 0, 0, 0, 1, 0, 0, 1, 0, 0, 0, 0, 0, 0, 1, 1, 0, 0, 0,\n",
       "       1, 0, 0, 1, 0, 1, 1, 1, 0, 0, 0, 0, 0, 0, 0, 0, 0, 0, 0, 0, 0, 0,\n",
       "       0, 0, 0, 0, 0, 0, 0, 0, 0, 1, 0, 0, 0, 1, 0, 0, 0, 0, 0, 0, 0, 0,\n",
       "       0, 0, 0, 0, 0, 0, 0, 0, 0, 0, 0, 0, 0, 0, 1, 0, 0, 0, 0, 0, 0, 1,\n",
       "       0, 0, 0, 1, 0, 0, 1, 1, 0, 1, 1, 1, 0, 0, 0, 0, 0, 0, 0, 1, 0, 0,\n",
       "       0, 0, 0, 1, 0, 1, 0, 0, 1, 0, 1, 0, 0, 1, 0, 0, 1, 1, 0, 0, 1, 0,\n",
       "       0, 0, 0, 0, 0, 0, 1, 1, 1, 0, 0, 0, 1, 0, 0, 0, 1, 1, 0, 1, 0, 1,\n",
       "       1, 1, 1, 0, 1, 0, 0, 0, 1, 0, 1, 0, 0, 1, 0, 1, 0, 0, 1, 0, 0, 1,\n",
       "       1, 0, 0, 1, 1, 1, 0, 1, 0, 0, 1, 0, 1, 0, 0, 0, 1, 0, 0, 0, 0, 0,\n",
       "       0, 0, 0, 0, 0, 0, 0, 0, 0, 1, 0, 0, 0, 0, 0, 0, 1, 1, 0, 1, 0, 0,\n",
       "       1, 1, 1, 1, 1, 0, 1, 0, 0, 1, 1, 0, 1, 0, 0, 0, 0, 0, 1, 0, 0, 1,\n",
       "       1, 0, 0, 0, 0, 0, 0, 1, 1, 0, 0, 0, 1, 0, 1, 0, 1, 0, 0, 1, 0, 0,\n",
       "       1, 0, 0, 0], dtype=int64)"
      ]
     },
     "execution_count": 32,
     "metadata": {},
     "output_type": "execute_result"
    }
   ],
   "source": [
    "y_pred_x =knn.predict(x)\n",
    "y_pred_x"
   ]
  },
  {
   "cell_type": "code",
   "execution_count": 34,
   "id": "078ff696",
   "metadata": {},
   "outputs": [
    {
     "data": {
      "text/plain": [
       "70.0"
      ]
     },
     "execution_count": 34,
     "metadata": {},
     "output_type": "execute_result"
    }
   ],
   "source": [
    "accuracy_score (y,y_pred_x)*100"
   ]
  },
  {
   "cell_type": "markdown",
   "id": "6df556f1",
   "metadata": {},
   "source": [
    "# Improving the model"
   ]
  },
  {
   "cell_type": "code",
   "execution_count": 36,
   "id": "236a5b06",
   "metadata": {},
   "outputs": [],
   "source": [
    "#Metric to use for distance computation. Default is “minkowski”, which results in the standard Euclidean distance when p = 2 or\n",
    "#manhattan_distance if p = 1  "
   ]
  },
  {
   "cell_type": "code",
   "execution_count": 37,
   "id": "75f65459",
   "metadata": {},
   "outputs": [
    {
     "data": {
      "text/html": [
       "<style>#sk-container-id-1 {color: black;background-color: white;}#sk-container-id-1 pre{padding: 0;}#sk-container-id-1 div.sk-toggleable {background-color: white;}#sk-container-id-1 label.sk-toggleable__label {cursor: pointer;display: block;width: 100%;margin-bottom: 0;padding: 0.3em;box-sizing: border-box;text-align: center;}#sk-container-id-1 label.sk-toggleable__label-arrow:before {content: \"▸\";float: left;margin-right: 0.25em;color: #696969;}#sk-container-id-1 label.sk-toggleable__label-arrow:hover:before {color: black;}#sk-container-id-1 div.sk-estimator:hover label.sk-toggleable__label-arrow:before {color: black;}#sk-container-id-1 div.sk-toggleable__content {max-height: 0;max-width: 0;overflow: hidden;text-align: left;background-color: #f0f8ff;}#sk-container-id-1 div.sk-toggleable__content pre {margin: 0.2em;color: black;border-radius: 0.25em;background-color: #f0f8ff;}#sk-container-id-1 input.sk-toggleable__control:checked~div.sk-toggleable__content {max-height: 200px;max-width: 100%;overflow: auto;}#sk-container-id-1 input.sk-toggleable__control:checked~label.sk-toggleable__label-arrow:before {content: \"▾\";}#sk-container-id-1 div.sk-estimator input.sk-toggleable__control:checked~label.sk-toggleable__label {background-color: #d4ebff;}#sk-container-id-1 div.sk-label input.sk-toggleable__control:checked~label.sk-toggleable__label {background-color: #d4ebff;}#sk-container-id-1 input.sk-hidden--visually {border: 0;clip: rect(1px 1px 1px 1px);clip: rect(1px, 1px, 1px, 1px);height: 1px;margin: -1px;overflow: hidden;padding: 0;position: absolute;width: 1px;}#sk-container-id-1 div.sk-estimator {font-family: monospace;background-color: #f0f8ff;border: 1px dotted black;border-radius: 0.25em;box-sizing: border-box;margin-bottom: 0.5em;}#sk-container-id-1 div.sk-estimator:hover {background-color: #d4ebff;}#sk-container-id-1 div.sk-parallel-item::after {content: \"\";width: 100%;border-bottom: 1px solid gray;flex-grow: 1;}#sk-container-id-1 div.sk-label:hover label.sk-toggleable__label {background-color: #d4ebff;}#sk-container-id-1 div.sk-serial::before {content: \"\";position: absolute;border-left: 1px solid gray;box-sizing: border-box;top: 0;bottom: 0;left: 50%;z-index: 0;}#sk-container-id-1 div.sk-serial {display: flex;flex-direction: column;align-items: center;background-color: white;padding-right: 0.2em;padding-left: 0.2em;position: relative;}#sk-container-id-1 div.sk-item {position: relative;z-index: 1;}#sk-container-id-1 div.sk-parallel {display: flex;align-items: stretch;justify-content: center;background-color: white;position: relative;}#sk-container-id-1 div.sk-item::before, #sk-container-id-1 div.sk-parallel-item::before {content: \"\";position: absolute;border-left: 1px solid gray;box-sizing: border-box;top: 0;bottom: 0;left: 50%;z-index: -1;}#sk-container-id-1 div.sk-parallel-item {display: flex;flex-direction: column;z-index: 1;position: relative;background-color: white;}#sk-container-id-1 div.sk-parallel-item:first-child::after {align-self: flex-end;width: 50%;}#sk-container-id-1 div.sk-parallel-item:last-child::after {align-self: flex-start;width: 50%;}#sk-container-id-1 div.sk-parallel-item:only-child::after {width: 0;}#sk-container-id-1 div.sk-dashed-wrapped {border: 1px dashed gray;margin: 0 0.4em 0.5em 0.4em;box-sizing: border-box;padding-bottom: 0.4em;background-color: white;}#sk-container-id-1 div.sk-label label {font-family: monospace;font-weight: bold;display: inline-block;line-height: 1.2em;}#sk-container-id-1 div.sk-label-container {text-align: center;}#sk-container-id-1 div.sk-container {/* jupyter's `normalize.less` sets `[hidden] { display: none; }` but bootstrap.min.css set `[hidden] { display: none !important; }` so we also need the `!important` here to be able to override the default hidden behavior on the sphinx rendered scikit-learn.org. See: https://github.com/scikit-learn/scikit-learn/issues/21755 */display: inline-block !important;position: relative;}#sk-container-id-1 div.sk-text-repr-fallback {display: none;}</style><div id=\"sk-container-id-1\" class=\"sk-top-container\"><div class=\"sk-text-repr-fallback\"><pre>KNeighborsClassifier(n_neighbors=1)</pre><b>In a Jupyter environment, please rerun this cell to show the HTML representation or trust the notebook. <br />On GitHub, the HTML representation is unable to render, please try loading this page with nbviewer.org.</b></div><div class=\"sk-container\" hidden><div class=\"sk-item\"><div class=\"sk-estimator sk-toggleable\"><input class=\"sk-toggleable__control sk-hidden--visually\" id=\"sk-estimator-id-1\" type=\"checkbox\" checked><label for=\"sk-estimator-id-1\" class=\"sk-toggleable__label sk-toggleable__label-arrow\">KNeighborsClassifier</label><div class=\"sk-toggleable__content\"><pre>KNeighborsClassifier(n_neighbors=1)</pre></div></div></div></div></div>"
      ],
      "text/plain": [
       "KNeighborsClassifier(n_neighbors=1)"
      ]
     },
     "execution_count": 37,
     "metadata": {},
     "output_type": "execute_result"
    }
   ],
   "source": [
    "classifier = KNeighborsClassifier(n_neighbors =1 , metric = 'minkowski', p= 2)\n",
    "classifier.fit(x_train,y_train)"
   ]
  },
  {
   "cell_type": "code",
   "execution_count": 38,
   "id": "4f1e8489",
   "metadata": {},
   "outputs": [
    {
     "data": {
      "text/plain": [
       "array([0, 0, 0, 0, 0, 0, 0, 1, 0, 0, 0, 0, 0, 0, 0, 0, 1, 1, 0, 0, 1, 0,\n",
       "       1, 1, 1, 0, 1, 1, 0, 0, 0, 1, 0, 0, 0, 0, 0, 0, 0, 0, 0, 0, 0, 0,\n",
       "       0, 0, 0, 0, 1, 0, 1, 0, 0, 0, 0, 0, 0, 0, 0, 0, 0, 0, 0, 1, 0, 0,\n",
       "       0, 0, 0, 0, 0, 0, 0, 0, 0, 1, 0, 0, 0, 0, 0, 0, 1, 0, 0, 1, 0, 0,\n",
       "       0, 0, 0, 0, 0, 0, 0, 0, 0, 1, 0, 1, 0, 1, 0, 1, 0, 0, 0, 0, 0, 0,\n",
       "       1, 1, 0, 0, 0, 0, 0, 0, 0, 1, 0, 0, 0, 0, 0, 0, 0, 0, 0, 0, 0, 0,\n",
       "       0, 0, 0, 0, 0, 0, 0, 0, 0, 0, 1, 0, 0, 0, 0, 0, 0, 0, 0, 0, 0, 0,\n",
       "       0, 0, 0, 0, 0, 1, 1, 0, 1, 0, 0, 0, 0, 0, 1, 0, 0, 0, 0, 0, 0, 0,\n",
       "       0, 0, 1, 1, 0, 0, 1, 1, 0, 0, 1, 0, 0, 0, 0, 0, 0, 0, 1, 0, 0, 0,\n",
       "       0, 0, 0, 0, 1, 0, 1, 0, 1, 0, 1, 0, 1, 1, 0, 0, 0, 1, 0, 0, 0, 1,\n",
       "       0, 1, 1, 1, 0, 0, 1, 0, 0, 1, 1, 0, 0, 1, 0, 1, 0, 1, 0, 1, 0, 0,\n",
       "       1, 1, 0, 1, 0, 1, 0, 1, 0, 0, 1, 0, 1, 1, 0, 0, 1, 1, 0, 1, 1, 0,\n",
       "       0, 0, 0, 0, 1, 0, 0, 1, 1, 1, 1, 1, 0, 1, 1, 1, 1, 0, 1, 1, 0, 1,\n",
       "       0, 1, 0, 1, 0, 1, 0, 0, 0, 0, 1, 1, 0, 1, 1, 1, 0, 1, 0, 0, 0, 0,\n",
       "       1, 0, 0, 1, 0, 1, 0, 1, 0, 0, 1, 0, 1, 1, 0, 1, 1, 0, 0, 0, 1, 1,\n",
       "       0, 1, 0, 0, 1, 0, 1, 0, 0, 1, 1, 0, 0, 1, 1, 0, 1, 1, 0, 0, 1, 0,\n",
       "       1, 0, 1, 1, 1, 0, 1, 0, 1, 1, 1, 0, 1, 1, 1, 1, 0, 1, 1, 1, 0, 1,\n",
       "       1, 1, 0, 0, 1, 0, 0, 1, 1, 1, 1, 1, 1, 0, 1, 1, 1, 1, 1, 1, 0, 1,\n",
       "       1, 1, 0, 0], dtype=int64)"
      ]
     },
     "execution_count": 38,
     "metadata": {},
     "output_type": "execute_result"
    }
   ],
   "source": [
    "y_pred =classifier.predict(x)\n",
    "y_pred"
   ]
  },
  {
   "cell_type": "code",
   "execution_count": 40,
   "id": "29782d9b",
   "metadata": {},
   "outputs": [
    {
     "data": {
      "text/plain": [
       "91.0"
      ]
     },
     "execution_count": 40,
     "metadata": {},
     "output_type": "execute_result"
    }
   ],
   "source": [
    "accuracy_score (y,y_pred)*100\n"
   ]
  },
  {
   "cell_type": "code",
   "execution_count": 41,
   "id": "1fcfb6ac",
   "metadata": {},
   "outputs": [
    {
     "data": {
      "text/html": [
       "<style>#sk-container-id-2 {color: black;background-color: white;}#sk-container-id-2 pre{padding: 0;}#sk-container-id-2 div.sk-toggleable {background-color: white;}#sk-container-id-2 label.sk-toggleable__label {cursor: pointer;display: block;width: 100%;margin-bottom: 0;padding: 0.3em;box-sizing: border-box;text-align: center;}#sk-container-id-2 label.sk-toggleable__label-arrow:before {content: \"▸\";float: left;margin-right: 0.25em;color: #696969;}#sk-container-id-2 label.sk-toggleable__label-arrow:hover:before {color: black;}#sk-container-id-2 div.sk-estimator:hover label.sk-toggleable__label-arrow:before {color: black;}#sk-container-id-2 div.sk-toggleable__content {max-height: 0;max-width: 0;overflow: hidden;text-align: left;background-color: #f0f8ff;}#sk-container-id-2 div.sk-toggleable__content pre {margin: 0.2em;color: black;border-radius: 0.25em;background-color: #f0f8ff;}#sk-container-id-2 input.sk-toggleable__control:checked~div.sk-toggleable__content {max-height: 200px;max-width: 100%;overflow: auto;}#sk-container-id-2 input.sk-toggleable__control:checked~label.sk-toggleable__label-arrow:before {content: \"▾\";}#sk-container-id-2 div.sk-estimator input.sk-toggleable__control:checked~label.sk-toggleable__label {background-color: #d4ebff;}#sk-container-id-2 div.sk-label input.sk-toggleable__control:checked~label.sk-toggleable__label {background-color: #d4ebff;}#sk-container-id-2 input.sk-hidden--visually {border: 0;clip: rect(1px 1px 1px 1px);clip: rect(1px, 1px, 1px, 1px);height: 1px;margin: -1px;overflow: hidden;padding: 0;position: absolute;width: 1px;}#sk-container-id-2 div.sk-estimator {font-family: monospace;background-color: #f0f8ff;border: 1px dotted black;border-radius: 0.25em;box-sizing: border-box;margin-bottom: 0.5em;}#sk-container-id-2 div.sk-estimator:hover {background-color: #d4ebff;}#sk-container-id-2 div.sk-parallel-item::after {content: \"\";width: 100%;border-bottom: 1px solid gray;flex-grow: 1;}#sk-container-id-2 div.sk-label:hover label.sk-toggleable__label {background-color: #d4ebff;}#sk-container-id-2 div.sk-serial::before {content: \"\";position: absolute;border-left: 1px solid gray;box-sizing: border-box;top: 0;bottom: 0;left: 50%;z-index: 0;}#sk-container-id-2 div.sk-serial {display: flex;flex-direction: column;align-items: center;background-color: white;padding-right: 0.2em;padding-left: 0.2em;position: relative;}#sk-container-id-2 div.sk-item {position: relative;z-index: 1;}#sk-container-id-2 div.sk-parallel {display: flex;align-items: stretch;justify-content: center;background-color: white;position: relative;}#sk-container-id-2 div.sk-item::before, #sk-container-id-2 div.sk-parallel-item::before {content: \"\";position: absolute;border-left: 1px solid gray;box-sizing: border-box;top: 0;bottom: 0;left: 50%;z-index: -1;}#sk-container-id-2 div.sk-parallel-item {display: flex;flex-direction: column;z-index: 1;position: relative;background-color: white;}#sk-container-id-2 div.sk-parallel-item:first-child::after {align-self: flex-end;width: 50%;}#sk-container-id-2 div.sk-parallel-item:last-child::after {align-self: flex-start;width: 50%;}#sk-container-id-2 div.sk-parallel-item:only-child::after {width: 0;}#sk-container-id-2 div.sk-dashed-wrapped {border: 1px dashed gray;margin: 0 0.4em 0.5em 0.4em;box-sizing: border-box;padding-bottom: 0.4em;background-color: white;}#sk-container-id-2 div.sk-label label {font-family: monospace;font-weight: bold;display: inline-block;line-height: 1.2em;}#sk-container-id-2 div.sk-label-container {text-align: center;}#sk-container-id-2 div.sk-container {/* jupyter's `normalize.less` sets `[hidden] { display: none; }` but bootstrap.min.css set `[hidden] { display: none !important; }` so we also need the `!important` here to be able to override the default hidden behavior on the sphinx rendered scikit-learn.org. See: https://github.com/scikit-learn/scikit-learn/issues/21755 */display: inline-block !important;position: relative;}#sk-container-id-2 div.sk-text-repr-fallback {display: none;}</style><div id=\"sk-container-id-2\" class=\"sk-top-container\"><div class=\"sk-text-repr-fallback\"><pre>KNeighborsClassifier(n_neighbors=1, p=1)</pre><b>In a Jupyter environment, please rerun this cell to show the HTML representation or trust the notebook. <br />On GitHub, the HTML representation is unable to render, please try loading this page with nbviewer.org.</b></div><div class=\"sk-container\" hidden><div class=\"sk-item\"><div class=\"sk-estimator sk-toggleable\"><input class=\"sk-toggleable__control sk-hidden--visually\" id=\"sk-estimator-id-2\" type=\"checkbox\" checked><label for=\"sk-estimator-id-2\" class=\"sk-toggleable__label sk-toggleable__label-arrow\">KNeighborsClassifier</label><div class=\"sk-toggleable__content\"><pre>KNeighborsClassifier(n_neighbors=1, p=1)</pre></div></div></div></div></div>"
      ],
      "text/plain": [
       "KNeighborsClassifier(n_neighbors=1, p=1)"
      ]
     },
     "execution_count": 41,
     "metadata": {},
     "output_type": "execute_result"
    }
   ],
   "source": [
    "from sklearn.neighbors import KNeighborsClassifier\n",
    "classifier = KNeighborsClassifier(n_neighbors =1 , metric = 'minkowski', p= 1)\n",
    "classifier.fit(x_train,y_train)"
   ]
  },
  {
   "cell_type": "code",
   "execution_count": 43,
   "id": "725505f9",
   "metadata": {},
   "outputs": [
    {
     "data": {
      "text/plain": [
       "array([0, 0, 0, 0, 0, 0, 0, 1, 0, 0, 0, 0, 0, 0, 0, 0, 1, 1, 0, 0, 1, 0,\n",
       "       1, 1, 1, 0, 1, 1, 0, 0, 0, 1, 0, 0, 0, 0, 0, 0, 0, 0, 0, 0, 0, 0,\n",
       "       0, 0, 0, 0, 1, 0, 1, 0, 0, 0, 0, 0, 0, 0, 0, 0, 0, 0, 0, 1, 0, 0,\n",
       "       0, 0, 0, 0, 0, 0, 0, 0, 0, 1, 0, 0, 0, 0, 0, 0, 1, 0, 0, 1, 0, 0,\n",
       "       0, 0, 0, 0, 0, 0, 0, 0, 0, 1, 0, 1, 0, 1, 0, 1, 0, 0, 0, 0, 0, 0,\n",
       "       1, 1, 0, 0, 0, 0, 0, 0, 0, 1, 0, 0, 0, 0, 0, 0, 0, 0, 0, 1, 0, 0,\n",
       "       0, 0, 0, 0, 0, 0, 0, 0, 0, 0, 1, 0, 0, 0, 0, 0, 0, 0, 0, 0, 0, 0,\n",
       "       0, 0, 0, 0, 0, 1, 1, 0, 1, 0, 0, 0, 0, 0, 1, 0, 0, 0, 0, 0, 0, 0,\n",
       "       0, 0, 1, 1, 0, 0, 1, 1, 0, 0, 1, 0, 0, 0, 0, 0, 0, 0, 0, 0, 0, 0,\n",
       "       0, 0, 0, 0, 1, 0, 1, 0, 1, 0, 1, 0, 1, 1, 0, 0, 0, 1, 0, 0, 0, 1,\n",
       "       0, 1, 1, 1, 0, 0, 1, 0, 0, 1, 1, 0, 0, 1, 0, 1, 0, 1, 0, 1, 0, 0,\n",
       "       1, 1, 0, 1, 0, 1, 0, 1, 0, 0, 1, 0, 0, 1, 0, 0, 1, 1, 0, 1, 1, 0,\n",
       "       0, 0, 0, 0, 1, 0, 0, 1, 1, 1, 1, 1, 0, 1, 1, 1, 1, 0, 1, 1, 0, 1,\n",
       "       0, 1, 0, 1, 0, 1, 0, 0, 0, 0, 1, 1, 0, 1, 1, 1, 0, 1, 0, 0, 0, 0,\n",
       "       1, 0, 0, 1, 0, 1, 0, 1, 0, 0, 1, 0, 1, 1, 0, 1, 1, 0, 0, 0, 1, 1,\n",
       "       0, 1, 0, 0, 1, 0, 1, 0, 0, 1, 1, 0, 0, 1, 1, 0, 1, 1, 0, 0, 1, 0,\n",
       "       1, 0, 1, 1, 1, 0, 1, 0, 1, 1, 1, 0, 1, 1, 1, 1, 0, 1, 1, 1, 0, 1,\n",
       "       1, 1, 0, 0, 1, 0, 0, 1, 1, 1, 1, 1, 1, 0, 1, 1, 1, 1, 1, 1, 0, 1,\n",
       "       1, 1, 0, 0], dtype=int64)"
      ]
     },
     "execution_count": 43,
     "metadata": {},
     "output_type": "execute_result"
    }
   ],
   "source": [
    "y_pred_P1 =classifier.predict(x)\n",
    "y_pred_P1"
   ]
  },
  {
   "cell_type": "code",
   "execution_count": 45,
   "id": "5c778d60",
   "metadata": {},
   "outputs": [
    {
     "data": {
      "text/plain": [
       "91.25"
      ]
     },
     "execution_count": 45,
     "metadata": {},
     "output_type": "execute_result"
    }
   ],
   "source": [
    "from sklearn.metrics import accuracy_score\n",
    "accuracy_score (y,y_pred_P1)*100"
   ]
  },
  {
   "cell_type": "code",
   "execution_count": null,
   "id": "c12d203e",
   "metadata": {},
   "outputs": [],
   "source": []
  }
 ],
 "metadata": {
  "kernelspec": {
   "display_name": "Python 3",
   "language": "python",
   "name": "python3"
  },
  "language_info": {
   "codemirror_mode": {
    "name": "ipython",
    "version": 3
   },
   "file_extension": ".py",
   "mimetype": "text/x-python",
   "name": "python",
   "nbconvert_exporter": "python",
   "pygments_lexer": "ipython3",
   "version": "3.8.8"
  }
 },
 "nbformat": 4,
 "nbformat_minor": 5
}
