{
 "cells": [
  {
   "cell_type": "code",
   "execution_count": 1,
   "id": "30eba9e3",
   "metadata": {},
   "outputs": [],
   "source": [
    "training_data = [['Green', 3, 'Mango'],\n",
    "                ['Yellow', 3, 'Mango'],\n",
    "                ['Red', 1, 'Grape'],\n",
    "                ['Red', 1, 'Grape'],\n",
    "                ['Yellow', 3, 'Lemon']]"
   ]
  },
  {
   "cell_type": "code",
   "execution_count": 2,
   "id": "dc772bbe",
   "metadata": {},
   "outputs": [],
   "source": [
    "header = [\"color\", \"diameter\", \"label\"]"
   ]
  },
  {
   "cell_type": "code",
   "execution_count": 3,
   "id": "7edcd0db",
   "metadata": {},
   "outputs": [],
   "source": [
    "def unique_vals(rows, col):\n",
    "    '''Find the unique values for a column in a dataset.'''\n",
    "    return set([row[col] for row in rows])"
   ]
  },
  {
   "cell_type": "code",
   "execution_count": 4,
   "id": "fbf34b38",
   "metadata": {},
   "outputs": [
    {
     "data": {
      "text/plain": [
       "{'Green', 'Red', 'Yellow'}"
      ]
     },
     "execution_count": 4,
     "metadata": {},
     "output_type": "execute_result"
    }
   ],
   "source": [
    "unique_vals(training_data, 0)"
   ]
  },
  {
   "cell_type": "code",
   "execution_count": 5,
   "id": "993075aa",
   "metadata": {},
   "outputs": [
    {
     "data": {
      "text/plain": [
       "{'Grape', 'Lemon', 'Mango'}"
      ]
     },
     "execution_count": 5,
     "metadata": {},
     "output_type": "execute_result"
    }
   ],
   "source": [
    "unique_vals(training_data, 2)"
   ]
  },
  {
   "cell_type": "code",
   "execution_count": 6,
   "id": "fea9549b",
   "metadata": {},
   "outputs": [],
   "source": [
    "def class_counts(rows):\n",
    "    '''Counts the number of each type of example in a dataset.'''\n",
    "    counts = {}    #a dictionary of label->count.\n",
    "    for row in rows:\n",
    "        #in our dataset format, the label is always the last column\n",
    "        label = row[-1]\n",
    "        if label not in counts:\n",
    "            counts[label]= 0\n",
    "        counts[label] += 1\n",
    "    return counts\n"
   ]
  },
  {
   "cell_type": "code",
   "execution_count": 7,
   "id": "40075ce1",
   "metadata": {},
   "outputs": [
    {
     "data": {
      "text/plain": [
       "{'Mango': 2, 'Grape': 2, 'Lemon': 1}"
      ]
     },
     "execution_count": 7,
     "metadata": {},
     "output_type": "execute_result"
    }
   ],
   "source": [
    "class_counts(training_data)"
   ]
  },
  {
   "cell_type": "code",
   "execution_count": 8,
   "id": "7d996eb2",
   "metadata": {},
   "outputs": [],
   "source": [
    "def is_numeric(value):\n",
    "    '''Test if a value is numeric.'''\n",
    "    return isinstance(value, int) or isinstance(value, float)"
   ]
  },
  {
   "cell_type": "code",
   "execution_count": 9,
   "id": "58c192fa",
   "metadata": {},
   "outputs": [
    {
     "data": {
      "text/plain": [
       "True"
      ]
     },
     "execution_count": 9,
     "metadata": {},
     "output_type": "execute_result"
    }
   ],
   "source": [
    "is_numeric(7)"
   ]
  },
  {
   "cell_type": "code",
   "execution_count": 10,
   "id": "b09c13ec",
   "metadata": {},
   "outputs": [
    {
     "data": {
      "text/plain": [
       "True"
      ]
     },
     "execution_count": 10,
     "metadata": {},
     "output_type": "execute_result"
    }
   ],
   "source": [
    "is_numeric(0.4)"
   ]
  },
  {
   "cell_type": "code",
   "execution_count": 11,
   "id": "bbc09bd8",
   "metadata": {},
   "outputs": [
    {
     "data": {
      "text/plain": [
       "False"
      ]
     },
     "execution_count": 11,
     "metadata": {},
     "output_type": "execute_result"
    }
   ],
   "source": [
    "is_numeric(\"red\")"
   ]
  },
  {
   "cell_type": "code",
   "execution_count": 32,
   "id": "159b4e15",
   "metadata": {},
   "outputs": [],
   "source": [
    "class Question:\n",
    "    '''A question is used to partition a dataset.\n",
    "    This class just records a 'column number'(e.g., 0 for color) and a 'column value'(e.g., green). The 'match' method is used to compare the feature value in an example to the feature value stored in the question. See the demo beow.'''\n",
    "    def _init(self, column, value):\n",
    "        self.column = column\n",
    "        self.value = value\n",
    "    def match(self, example):\n",
    "        #compare the feature value in an example to the \n",
    "        #feature value in this question.\n",
    "        val = example[self.column]\n",
    "        if is_numeric(val):\n",
    "            return val >= self.value\n",
    "        else:\n",
    "            return val == self.value\n",
    "    def _repr_(self):\n",
    "        #This is just a helper method to print\n",
    "        #The question in a readable format.\n",
    "        condition = \"==\"\n",
    "        if is_numeric(self.value):\n",
    "            condition = \">=\"\n",
    "        return \"Is %s %s %s?\" %(header[self.column], condition, str(self.value))\n",
    "    def partition(rows, question):\n",
    "        #Partitions a dataset. For each row in the dataset, check if it matches the question. If so, add it to 'true rows', otherwise, add it to 'false rows'.\n",
    "        true_rows, false_rows = [], []\n",
    "        for row in rows:\n",
    "            if question.match(row):\n",
    "                true_rows.append(row)\n",
    "            else:\n",
    "                false_rows.append(row)\n",
    "        return true_rows, false_rows\n",
    "        "
   ]
  },
  {
   "cell_type": "code",
   "execution_count": 33,
   "id": "c20f5f44",
   "metadata": {},
   "outputs": [
    {
     "ename": "TypeError",
     "evalue": "Question() takes no arguments",
     "output_type": "error",
     "traceback": [
      "\u001b[1;31m---------------------------------------------------------------------------\u001b[0m",
      "\u001b[1;31mTypeError\u001b[0m                                 Traceback (most recent call last)",
      "\u001b[1;32m<ipython-input-33-b7dd9ae2f2b1>\u001b[0m in \u001b[0;36m<module>\u001b[1;34m\u001b[0m\n\u001b[1;32m----> 1\u001b[1;33m \u001b[0mtrue_rows\u001b[0m\u001b[1;33m,\u001b[0m \u001b[0mfalse_rows\u001b[0m \u001b[1;33m=\u001b[0m \u001b[0mpartition\u001b[0m\u001b[1;33m(\u001b[0m\u001b[0mtraining_data\u001b[0m\u001b[1;33m,\u001b[0m \u001b[0mQuestion\u001b[0m\u001b[1;33m(\u001b[0m\u001b[1;36m0\u001b[0m\u001b[1;33m,\u001b[0m \u001b[1;34m'Red'\u001b[0m\u001b[1;33m)\u001b[0m\u001b[1;33m)\u001b[0m\u001b[1;33m\u001b[0m\u001b[1;33m\u001b[0m\u001b[0m\n\u001b[0m",
      "\u001b[1;31mTypeError\u001b[0m: Question() takes no arguments"
     ]
    }
   ],
   "source": [
    "true_rows, false_rows = partition(training_data, Question(0, 'Red'))\n"
   ]
  },
  {
   "cell_type": "raw",
   "id": "8abfe3e3",
   "metadata": {},
   "source": [
    "true_rows"
   ]
  },
  {
   "cell_type": "code",
   "execution_count": 17,
   "id": "9e4f4755",
   "metadata": {},
   "outputs": [
    {
     "ename": "NameError",
     "evalue": "name 'false_rows' is not defined",
     "output_type": "error",
     "traceback": [
      "\u001b[1;31m---------------------------------------------------------------------------\u001b[0m",
      "\u001b[1;31mNameError\u001b[0m                                 Traceback (most recent call last)",
      "\u001b[1;32m<ipython-input-17-0944ebfc3023>\u001b[0m in \u001b[0;36m<module>\u001b[1;34m\u001b[0m\n\u001b[1;32m----> 1\u001b[1;33m \u001b[0mfalse_rows\u001b[0m\u001b[1;33m\u001b[0m\u001b[1;33m\u001b[0m\u001b[0m\n\u001b[0m",
      "\u001b[1;31mNameError\u001b[0m: name 'false_rows' is not defined"
     ]
    }
   ],
   "source": [
    "false_rows"
   ]
  },
  {
   "cell_type": "code",
   "execution_count": 18,
   "id": "56c4cf63",
   "metadata": {},
   "outputs": [],
   "source": [
    "def gini(rows):\n",
    "    #calculate the gini impurity for a list of rows.\n",
    "    \n",
    "    counts = class_counts(rows)\n",
    "    impurity = 1\n",
    "    for lbl in counts:\n",
    "        prob_of_lbl = counts[lbl]/float(len(rows))\n",
    "        impurity -= prob_of_lbl**2\n",
    "    return impurity\n"
   ]
  },
  {
   "cell_type": "code",
   "execution_count": 19,
   "id": "fc6fe313",
   "metadata": {},
   "outputs": [
    {
     "data": {
      "text/plain": [
       "0.0"
      ]
     },
     "execution_count": 19,
     "metadata": {},
     "output_type": "execute_result"
    }
   ],
   "source": [
    "#lets see how gini impurity works.\n",
    "#first, we'll look at a dataset with no mixing.\n",
    "no_mixing = [['Mango'], ['Mango']]\n",
    "gini(no_mixing)\n"
   ]
  },
  {
   "cell_type": "code",
   "execution_count": 20,
   "id": "bc9d09be",
   "metadata": {},
   "outputs": [
    {
     "data": {
      "text/plain": [
       "0.7999999999999998"
      ]
     },
     "execution_count": 20,
     "metadata": {},
     "output_type": "execute_result"
    }
   ],
   "source": [
    "lots_of_mixing = [['Mango'], ['Orange'], ['Grape'], ['Grapefruit'], ['Blueberry']]\n",
    "gini(lots_of_mixing)"
   ]
  },
  {
   "cell_type": "code",
   "execution_count": 21,
   "id": "dff7184c",
   "metadata": {},
   "outputs": [],
   "source": [
    "def info_gain(left, right, current_uncertainity):\n",
    "    '''Information Gain. The uncertainity of th starting node, minus the weighted impurity of two child nodes.'''\n",
    "    p = float(len(left))/(len(left)+len(right))\n",
    "    return current_uncertainity - p * gini(left) - (1-p) * gini(right)\n",
    "    "
   ]
  },
  {
   "cell_type": "code",
   "execution_count": 24,
   "id": "975d32b5",
   "metadata": {},
   "outputs": [],
   "source": [
    "#calculating th uncertainity of our training data.\n",
    "current_uncertainity = gini(training_data)"
   ]
  },
  {
   "cell_type": "code",
   "execution_count": 25,
   "id": "7c366334",
   "metadata": {},
   "outputs": [
    {
     "ename": "NameError",
     "evalue": "name 'partition' is not defined",
     "output_type": "error",
     "traceback": [
      "\u001b[1;31m---------------------------------------------------------------------------\u001b[0m",
      "\u001b[1;31mNameError\u001b[0m                                 Traceback (most recent call last)",
      "\u001b[1;32m<ipython-input-25-708524f6c06b>\u001b[0m in \u001b[0;36m<module>\u001b[1;34m\u001b[0m\n\u001b[0;32m      1\u001b[0m \u001b[1;31m#how much information do we gain by partitioning on 'Green'?\u001b[0m\u001b[1;33m\u001b[0m\u001b[1;33m\u001b[0m\u001b[1;33m\u001b[0m\u001b[0m\n\u001b[1;32m----> 2\u001b[1;33m \u001b[0mtrue_rows\u001b[0m\u001b[1;33m,\u001b[0m \u001b[0mfalse_rows\u001b[0m \u001b[1;33m=\u001b[0m \u001b[0mpartition\u001b[0m\u001b[1;33m(\u001b[0m\u001b[0mtraining_data\u001b[0m\u001b[1;33m,\u001b[0m \u001b[0mQuestion\u001b[0m\u001b[1;33m(\u001b[0m\u001b[1;36m0\u001b[0m\u001b[1;33m,\u001b[0m \u001b[1;34m'Green'\u001b[0m\u001b[1;33m)\u001b[0m\u001b[1;33m)\u001b[0m\u001b[1;33m\u001b[0m\u001b[1;33m\u001b[0m\u001b[0m\n\u001b[0m",
      "\u001b[1;31mNameError\u001b[0m: name 'partition' is not defined"
     ]
    }
   ],
   "source": [
    "#how much information do we gain by partitioning on 'Green'?\n",
    "true_rows, false_rows = partition(training_data, Question(0, 'Green'))"
   ]
  },
  {
   "cell_type": "code",
   "execution_count": 31,
   "id": "a8f285fa",
   "metadata": {},
   "outputs": [
    {
     "ename": "NameError",
     "evalue": "name 'true_rows' is not defined",
     "output_type": "error",
     "traceback": [
      "\u001b[1;31m---------------------------------------------------------------------------\u001b[0m",
      "\u001b[1;31mNameError\u001b[0m                                 Traceback (most recent call last)",
      "\u001b[1;32m<ipython-input-31-464c4d23b4e9>\u001b[0m in \u001b[0;36m<module>\u001b[1;34m\u001b[0m\n\u001b[1;32m----> 1\u001b[1;33m \u001b[0minfo_gain\u001b[0m\u001b[1;33m(\u001b[0m\u001b[0mtrue_rows\u001b[0m\u001b[1;33m,\u001b[0m \u001b[0mfalse_rows\u001b[0m\u001b[1;33m,\u001b[0m \u001b[0mcurrent_uncertainity\u001b[0m\u001b[1;33m)\u001b[0m\u001b[1;33m\u001b[0m\u001b[1;33m\u001b[0m\u001b[0m\n\u001b[0m",
      "\u001b[1;31mNameError\u001b[0m: name 'true_rows' is not defined"
     ]
    }
   ],
   "source": [
    "info_gain(true_rows, false_rows, current_uncertainity)\n"
   ]
  },
  {
   "cell_type": "code",
   "execution_count": 34,
   "id": "9fd08994",
   "metadata": {},
   "outputs": [
    {
     "ename": "TypeError",
     "evalue": "Question() takes no arguments",
     "output_type": "error",
     "traceback": [
      "\u001b[1;31m---------------------------------------------------------------------------\u001b[0m",
      "\u001b[1;31mTypeError\u001b[0m                                 Traceback (most recent call last)",
      "\u001b[1;32m<ipython-input-34-cb87d431d632>\u001b[0m in \u001b[0;36m<module>\u001b[1;34m\u001b[0m\n\u001b[0;32m      1\u001b[0m \u001b[1;31m#what about if we partition on red instead?\u001b[0m\u001b[1;33m\u001b[0m\u001b[1;33m\u001b[0m\u001b[1;33m\u001b[0m\u001b[0m\n\u001b[1;32m----> 2\u001b[1;33m \u001b[0mtrue_rows\u001b[0m\u001b[1;33m,\u001b[0m \u001b[0mfalse_rows\u001b[0m \u001b[1;33m=\u001b[0m \u001b[0mpartition\u001b[0m\u001b[1;33m(\u001b[0m\u001b[0mtraining_data\u001b[0m\u001b[1;33m,\u001b[0m \u001b[0mQuestion\u001b[0m\u001b[1;33m(\u001b[0m\u001b[1;36m0\u001b[0m\u001b[1;33m,\u001b[0m \u001b[1;34m'Red'\u001b[0m\u001b[1;33m)\u001b[0m\u001b[1;33m)\u001b[0m\u001b[1;33m\u001b[0m\u001b[1;33m\u001b[0m\u001b[0m\n\u001b[0m",
      "\u001b[1;31mTypeError\u001b[0m: Question() takes no arguments"
     ]
    }
   ],
   "source": [
    "#what about if we partition on red instead?\n",
    "true_rows, false_rows = partition(training_data, Question(0, 'Red'))\n"
   ]
  },
  {
   "cell_type": "code",
   "execution_count": 35,
   "id": "9c9004ed",
   "metadata": {},
   "outputs": [
    {
     "ename": "NameError",
     "evalue": "name 'true_rows' is not defined",
     "output_type": "error",
     "traceback": [
      "\u001b[1;31m---------------------------------------------------------------------------\u001b[0m",
      "\u001b[1;31mNameError\u001b[0m                                 Traceback (most recent call last)",
      "\u001b[1;32m<ipython-input-35-464c4d23b4e9>\u001b[0m in \u001b[0;36m<module>\u001b[1;34m\u001b[0m\n\u001b[1;32m----> 1\u001b[1;33m \u001b[0minfo_gain\u001b[0m\u001b[1;33m(\u001b[0m\u001b[0mtrue_rows\u001b[0m\u001b[1;33m,\u001b[0m \u001b[0mfalse_rows\u001b[0m\u001b[1;33m,\u001b[0m \u001b[0mcurrent_uncertainity\u001b[0m\u001b[1;33m)\u001b[0m\u001b[1;33m\u001b[0m\u001b[1;33m\u001b[0m\u001b[0m\n\u001b[0m",
      "\u001b[1;31mNameError\u001b[0m: name 'true_rows' is not defined"
     ]
    }
   ],
   "source": [
    "info_gain(true_rows, false_rows, current_uncertainity)"
   ]
  },
  {
   "cell_type": "code",
   "execution_count": 36,
   "id": "385b74f9",
   "metadata": {},
   "outputs": [],
   "source": [
    "def find_best_split(rows):\n",
    "    '''Find the best question to ask by iteration over every feature/value and calculating the information gain.'''\n",
    "    best_gain = 0 #keep track of the best information gain\n",
    "    best_question = None #keep train of the feature/value that produced it.\n",
    "    current_uncertainity = gini(rows)\n",
    "    n_features = len(rows[0])-1 #number of columns\n",
    "    for col in range(n_features): #for each feature\n",
    "        values = set([row[col] for row in rows]) #unique values in the column\n",
    "        for val in values: #for each value\n",
    "            question = Question(col, val)\n",
    "            #try splitting the dataset\n",
    "            true_rows, false_rows = partition(rows, question)\n",
    "            #skip this split if it doesn't divide the dataset.\n",
    "            if len(true_rows) == 0 or len(false_rows) == 0:\n",
    "                continue\n",
    "            #calculate the information gain from this split\n",
    "            gain = info_gain(true_rows, false_rows, current_uncertainity)\n",
    "            #you can actually use > instead of >= here but i wanted the tree to look a certain way for our toy dataset.\n",
    "            if gain>=best_gain:\n",
    "                best_gain, best_question = gain, question\n",
    "    return best_gain, best_question\n",
    "\n",
    "                \n",
    "            "
   ]
  },
  {
   "cell_type": "code",
   "execution_count": 37,
   "id": "7450ca98",
   "metadata": {},
   "outputs": [
    {
     "ename": "TypeError",
     "evalue": "Question() takes no arguments",
     "output_type": "error",
     "traceback": [
      "\u001b[1;31m---------------------------------------------------------------------------\u001b[0m",
      "\u001b[1;31mTypeError\u001b[0m                                 Traceback (most recent call last)",
      "\u001b[1;32m<ipython-input-37-2742b256ce00>\u001b[0m in \u001b[0;36m<module>\u001b[1;34m\u001b[0m\n\u001b[0;32m      1\u001b[0m \u001b[1;31m#find the best question to ask first for our toy dataset.\u001b[0m\u001b[1;33m\u001b[0m\u001b[1;33m\u001b[0m\u001b[1;33m\u001b[0m\u001b[0m\n\u001b[1;32m----> 2\u001b[1;33m \u001b[0mbest_gain\u001b[0m\u001b[1;33m,\u001b[0m \u001b[0mbest_question\u001b[0m \u001b[1;33m=\u001b[0m \u001b[0mfind_best_split\u001b[0m\u001b[1;33m(\u001b[0m\u001b[0mtraining_data\u001b[0m\u001b[1;33m)\u001b[0m\u001b[1;33m\u001b[0m\u001b[1;33m\u001b[0m\u001b[0m\n\u001b[0m",
      "\u001b[1;32m<ipython-input-36-9b6c8ea63fb2>\u001b[0m in \u001b[0;36mfind_best_split\u001b[1;34m(rows)\u001b[0m\n\u001b[0;32m      8\u001b[0m         \u001b[0mvalues\u001b[0m \u001b[1;33m=\u001b[0m \u001b[0mset\u001b[0m\u001b[1;33m(\u001b[0m\u001b[1;33m[\u001b[0m\u001b[0mrow\u001b[0m\u001b[1;33m[\u001b[0m\u001b[0mcol\u001b[0m\u001b[1;33m]\u001b[0m \u001b[1;32mfor\u001b[0m \u001b[0mrow\u001b[0m \u001b[1;32min\u001b[0m \u001b[0mrows\u001b[0m\u001b[1;33m]\u001b[0m\u001b[1;33m)\u001b[0m \u001b[1;31m#unique values in the column\u001b[0m\u001b[1;33m\u001b[0m\u001b[1;33m\u001b[0m\u001b[0m\n\u001b[0;32m      9\u001b[0m         \u001b[1;32mfor\u001b[0m \u001b[0mval\u001b[0m \u001b[1;32min\u001b[0m \u001b[0mvalues\u001b[0m\u001b[1;33m:\u001b[0m \u001b[1;31m#for each value\u001b[0m\u001b[1;33m\u001b[0m\u001b[1;33m\u001b[0m\u001b[0m\n\u001b[1;32m---> 10\u001b[1;33m             \u001b[0mquestion\u001b[0m \u001b[1;33m=\u001b[0m \u001b[0mQuestion\u001b[0m\u001b[1;33m(\u001b[0m\u001b[0mcol\u001b[0m\u001b[1;33m,\u001b[0m \u001b[0mval\u001b[0m\u001b[1;33m)\u001b[0m\u001b[1;33m\u001b[0m\u001b[1;33m\u001b[0m\u001b[0m\n\u001b[0m\u001b[0;32m     11\u001b[0m             \u001b[1;31m#try splitting the dataset\u001b[0m\u001b[1;33m\u001b[0m\u001b[1;33m\u001b[0m\u001b[1;33m\u001b[0m\u001b[0m\n\u001b[0;32m     12\u001b[0m             \u001b[0mtrue_rows\u001b[0m\u001b[1;33m,\u001b[0m \u001b[0mfalse_rows\u001b[0m \u001b[1;33m=\u001b[0m \u001b[0mpartition\u001b[0m\u001b[1;33m(\u001b[0m\u001b[0mrows\u001b[0m\u001b[1;33m,\u001b[0m \u001b[0mquestion\u001b[0m\u001b[1;33m)\u001b[0m\u001b[1;33m\u001b[0m\u001b[1;33m\u001b[0m\u001b[0m\n",
      "\u001b[1;31mTypeError\u001b[0m: Question() takes no arguments"
     ]
    }
   ],
   "source": [
    "#find the best question to ask first for our toy dataset.\n",
    "best_gain, best_question = find_best_split(training_data)"
   ]
  },
  {
   "cell_type": "code",
   "execution_count": 38,
   "id": "062b22b0",
   "metadata": {},
   "outputs": [],
   "source": [
    "class leaf:\n",
    "    '''A leaf node classifies data. This holds a dictionary of class(e.g., \"Mango\")-> no. of times it appears in the rows from the training data that reach this leaf.'''\n",
    "    def _init_(self, rows):\n",
    "        self.predictions = class_counts(rows)\n",
    "class Decision_Node:\n",
    "    '''A decision node asks a question. This holds a reference to the question and to the two child nodes.'''\n",
    "    def _init__(self, question, true_branch, false_branch):\n",
    "        self.question = question\n",
    "        self.true_branch = true_branch\n",
    "        self.false_branch = false_branch\n",
    "    def build_tree(rows):\n",
    "        '''Builds the tree. Try partitioning the dataset on each of the unique attribute, calculate the information gain, and return the question that produces the highest gain.'''\n",
    "        gain, question = find_best_split(rows)\n",
    "        \n",
    "        #base case: no further info gain\n",
    "        #since we can ask no further questions, we'll return a leaf.\n",
    "        if gain==0:\n",
    "            return Leaf(rows)\n",
    "        \n",
    "        #if we reach here we have found a useful feature/value to partition on.\n",
    "        true_rows, false_rows = partition (rows, question)\n",
    "        #recursively build the true branch\n",
    "        true_branch = build_tree(true_rows)\n",
    "        #recursively build the false branch\n",
    "        false_branch = build_tree(false_rows)\n",
    "        \n",
    "        #return a question node. This records the best feature/value to ask at this point, as well as the branches to follow depending on the answer.\n",
    "        return Decision_Node(question, true_branch, false_branch)\n",
    "    def print_tree(node, spacing=\"\"):\n",
    "        '''World's most elegant tree printing function.'''\n",
    "        #Base case: we've reached a leaf\n",
    "        if isinstance(node, Leaf):\n",
    "            print(spacing + \"Predict\", node.predictions)\n",
    "            return\n",
    "        #print the question at this node\n",
    "        print(spacing + str(node.question))\n",
    "        #call this function recursively on the true branch\n",
    "        print(spacing + '--> True:')\n",
    "        print_tree(node.true_branch, spacing + \"  \")\n",
    "        #call this function recursively on the false branch\n",
    "        print(spacing+ '--> False:')\n",
    "        print_tree(node.false_branch, spacing + \"  \")\n",
    "        \n",
    "    def classify(row, node):\n",
    "        #Base case: we've reached a leaf\n",
    "        if isinstance(node, leaf):\n",
    "            return node.predictions\n",
    "        #decide whether to follow the true-branch or the false-branch. Compare the feature / value stored in the node, to the example we're considering.\n",
    "        if node.question.match(row):\n",
    "            return classify(row, node.true_branch)\n",
    "        else:\n",
    "            return classify(row, node.false_branch)\n",
    "        \n",
    "        "
   ]
  },
  {
   "cell_type": "code",
   "execution_count": 39,
   "id": "524f678e",
   "metadata": {},
   "outputs": [
    {
     "ename": "NameError",
     "evalue": "name 'print_leaf' is not defined",
     "output_type": "error",
     "traceback": [
      "\u001b[1;31m---------------------------------------------------------------------------\u001b[0m",
      "\u001b[1;31mNameError\u001b[0m                                 Traceback (most recent call last)",
      "\u001b[1;32m<ipython-input-39-c0c09125751f>\u001b[0m in \u001b[0;36m<module>\u001b[1;34m\u001b[0m\n\u001b[1;32m----> 1\u001b[1;33m \u001b[0mprint_leaf\u001b[0m\u001b[1;33m(\u001b[0m\u001b[0mclassify\u001b[0m\u001b[1;33m(\u001b[0m\u001b[0mtraining_data\u001b[0m\u001b[1;33m[\u001b[0m\u001b[1;36m0\u001b[0m\u001b[1;33m]\u001b[0m\u001b[1;33m,\u001b[0m \u001b[0mmy_tree\u001b[0m\u001b[1;33m)\u001b[0m\u001b[1;33m)\u001b[0m\u001b[1;33m\u001b[0m\u001b[1;33m\u001b[0m\u001b[0m\n\u001b[0m",
      "\u001b[1;31mNameError\u001b[0m: name 'print_leaf' is not defined"
     ]
    }
   ],
   "source": [
    "print_leaf(classify(training_data[0], my_tree))"
   ]
  },
  {
   "cell_type": "code",
   "execution_count": 40,
   "id": "8432602e",
   "metadata": {},
   "outputs": [
    {
     "ename": "NameError",
     "evalue": "name 'print_leaf' is not defined",
     "output_type": "error",
     "traceback": [
      "\u001b[1;31m---------------------------------------------------------------------------\u001b[0m",
      "\u001b[1;31mNameError\u001b[0m                                 Traceback (most recent call last)",
      "\u001b[1;32m<ipython-input-40-1ceec8515b56>\u001b[0m in \u001b[0;36m<module>\u001b[1;34m\u001b[0m\n\u001b[1;32m----> 1\u001b[1;33m \u001b[0mprint_leaf\u001b[0m\u001b[1;33m(\u001b[0m\u001b[0mclassify\u001b[0m\u001b[1;33m(\u001b[0m\u001b[0mtraining_data\u001b[0m\u001b[1;33m[\u001b[0m\u001b[1;36m1\u001b[0m\u001b[1;33m]\u001b[0m\u001b[1;33m,\u001b[0m \u001b[0mmy_tree\u001b[0m\u001b[1;33m)\u001b[0m\u001b[1;33m)\u001b[0m\u001b[1;33m\u001b[0m\u001b[1;33m\u001b[0m\u001b[0m\n\u001b[0m",
      "\u001b[1;31mNameError\u001b[0m: name 'print_leaf' is not defined"
     ]
    }
   ],
   "source": [
    "print_leaf(classify(training_data[1], my_tree))"
   ]
  },
  {
   "cell_type": "code",
   "execution_count": null,
   "id": "ca9e77f6",
   "metadata": {},
   "outputs": [],
   "source": [
    "if __name__ == '__main__':\n",
    "    my_tree = build_tree(training_data)\n",
    "    print_tree(my_tree)\n",
    "    #evaluate\n",
    "    testing_data = [['Green', 3, 'Mango'],\n",
    "                ['Yellow', 4, 'Mango'],\n",
    "                ['Red', 2, 'Grape'],\n",
    "                ['Red', 1, 'Grape'],\n",
    "                ['Yellow', 3, 'Lemon']]\n",
    "    for row in testing_data:\n",
    "        print(\"Actual: %s. predicted:%s\" % (row[-1], print_leaf(classify(row, my_tree))))\n",
    "#next steps\n",
    "#add support for missing(or unseen) attributes. Prune the tree to prevent overfitting and add support for regression\n",
    "\n",
    "        \n",
    "    "
   ]
  }
 ],
 "metadata": {
  "kernelspec": {
   "display_name": "Python 3",
   "language": "python",
   "name": "python3"
  },
  "language_info": {
   "codemirror_mode": {
    "name": "ipython",
    "version": 3
   },
   "file_extension": ".py",
   "mimetype": "text/x-python",
   "name": "python",
   "nbconvert_exporter": "python",
   "pygments_lexer": "ipython3",
   "version": "3.8.8"
  }
 },
 "nbformat": 4,
 "nbformat_minor": 5
}
